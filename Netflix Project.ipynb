{
 "cells": [
  {
   "cell_type": "markdown",
   "metadata": {},
   "source": [
    "<B> About this Dataset:</b> Netflix is one of the most popular media and video streaming platforms. <br>They have over 8000 movies or tv shows available on their platform, as of mid-2021, they have over 200M Subscribers globally.<br> This tabular dataset consists of listings of all the movies and tv shows available on Netflix, along with details such as - cast, directors, ratings, release year, duration, etc."
   ]
  },
  {
   "cell_type": "markdown",
   "metadata": {},
   "source": [
    "# Used Pandas Methods and atttributes:"
   ]
  },
  {
   "cell_type": "markdown",
   "metadata": {},
   "source": [
    "| Methods/Functions            | Description/Usage                          |\n",
    "|------------------------------|--------------------------------------------|\n",
    "| `head()`, `tail()`            | Viewing the first and last rows of a DataFrame |\n",
    "| `shape`, `size`, `columns`    | Checking DataFrame structure               |\n",
    "| `duplicate()`, `isnull()`, `dropna()` | Handling duplicates and missing data |\n",
    "| Creating New Columns          | Adding new calculated columns              |\n",
    "| Creating New DataFrame        | Initializing a new DataFrame               |\n",
    "| Filtering (Single Column), `isin()` | Filtering data based on specific conditions |\n",
    "| `str.contains()`, `str.split()` | String operations within DataFrames       |\n",
    "| `dtypes`, `info()`            | Checking data types and general information |\n",
    "| `value_counts()`, `unique()`, `nunique()` | Counting unique values in columns |\n",
    "| `to_datetime()`, `dt.year.value_counts()` | Handling and analyzing datetime data |\n",
    "| `groupby()`                   | Grouping data for aggregation              |\n",
    "| `countplot()`                 | Creating count plots with Seaborn          |\n",
    "| `max()`, `min()`, `mean()`    | Calculating statistical summaries          |\n",
    "| Filtering (Multiple Columns)  | Applying filters across multiple columns   |\n",
    "| Filtering with `And`, `OR`    | Combining filters using logical operators  |\n",
    "| Seaborn - Bar Graphs          | Visualizing data with bar graphs           |\n"
   ]
  },
  {
   "cell_type": "markdown",
   "metadata": {},
   "source": [
    "### Task 1: \n",
    "**Is there any Duplicate Record in this dataset?**  \n",
    "If yes, then remove the duplicate records.\n",
    "\n",
    "### Task 2: \n",
    "**Is there any Null Value present in any column?**  \n",
    "Show with a Heat-map.\n",
    "\n",
    "---\n",
    "\n",
    "### Q.1:\n",
    "**For 'House of Cards', what is the Show Id and Who is the Director of this show?**\n",
    "\n",
    "### Q.2:\n",
    "**In which year highest number of the TV Shows & Movies were released? Show with Bar Graph.**\n",
    "\n",
    "### Q3: \n",
    "**How many Movies & TV Shows are in the dataset?**  \n",
    "Show with a Bar Graph.\n",
    "\n",
    "### Q4: \n",
    "**Show all the Movies that were released in the year 2000.**\n",
    "\n",
    "### Q5: \n",
    "**Show only the Titles of all TV Shows that were released in India only.**\n",
    "\n",
    "### Q6: \n",
    "**Show the Top 10 Directors who gave the highest number of TV Shows & Movies to Netflix.**\n",
    "\n",
    "### Q7: \n",
    "**Show all the Records where \"Category is Movie and Type is Comedies\" or \"Country is United Kingdom\".**\n",
    "\n",
    "### Q8: \n",
    "**In how many movies/shows was Tom Cruise cast?**\n",
    "\n",
    "### Q9: \n",
    "**What are the different Ratings defined by Netflix?**\n",
    "\n",
    "#### Q9.1: \n",
    "**How many Movies got the \"TV-14\" rating, in Canada?**\n",
    "\n",
    "#### Q9.2: \n",
    "**How many TV Shows got the 'R' rating, after the year 2018?**\n",
    "\n",
    "### Q10: \n",
    "**What is the maximum duration of a Movie/Show on Netflix?**\n",
    "\n",
    "### Q11: \n",
    "**Which individual country has the Highest No. of TV Shows?**\n",
    "\n",
    "\n",
    "### Q12: \n",
    "**How can we sort the dataset by Year?**\n",
    "\n",
    "### Q13: \n",
    "**Find all the instances where:**\n",
    "- Category is 'Movie' and Type is 'Dramas'\n",
    "- Or Category is 'TV Show' & Type is 'Kids' TV'\n"
   ]
  },
  {
   "cell_type": "markdown",
   "metadata": {},
   "source": [
    "## Reading the data set "
   ]
  },
  {
   "cell_type": "code",
   "execution_count": null,
   "metadata": {},
   "outputs": [],
   "source": [
    "import pandas as pd"
   ]
  },
  {
   "cell_type": "code",
   "execution_count": null,
   "metadata": {},
   "outputs": [],
   "source": []
  },
  {
   "cell_type": "markdown",
   "metadata": {},
   "source": [
    "## Exploring the dataset: "
   ]
  },
  {
   "cell_type": "code",
   "execution_count": null,
   "metadata": {},
   "outputs": [],
   "source": [
    "# Shape\n"
   ]
  },
  {
   "cell_type": "code",
   "execution_count": null,
   "metadata": {},
   "outputs": [],
   "source": [
    "# info\n"
   ]
  },
  {
   "cell_type": "code",
   "execution_count": null,
   "metadata": {},
   "outputs": [],
   "source": [
    "# Size\n"
   ]
  },
  {
   "cell_type": "code",
   "execution_count": null,
   "metadata": {},
   "outputs": [],
   "source": [
    "# Show the columns names\n"
   ]
  },
  {
   "cell_type": "code",
   "execution_count": null,
   "metadata": {},
   "outputs": [],
   "source": [
    "# Show the columns types:\n"
   ]
  },
  {
   "cell_type": "code",
   "execution_count": null,
   "metadata": {},
   "outputs": [],
   "source": [
    "# Show the First 5 Rows "
   ]
  },
  {
   "cell_type": "code",
   "execution_count": null,
   "metadata": {},
   "outputs": [],
   "source": [
    "# Show a random smaple of 5 "
   ]
  },
  {
   "cell_type": "markdown",
   "metadata": {},
   "source": [
    "### Task 1: \n",
    "**Is there any Duplicate Record in this dataset?**  \n",
    "If yes, then remove the duplicate records."
   ]
  },
  {
   "cell_type": "code",
   "execution_count": null,
   "metadata": {},
   "outputs": [],
   "source": [
    "# No. of duplictes\n"
   ]
  },
  {
   "cell_type": "code",
   "execution_count": null,
   "metadata": {},
   "outputs": [],
   "source": [
    "# Show the duplicated Values\n"
   ]
  },
  {
   "cell_type": "code",
   "execution_count": null,
   "metadata": {},
   "outputs": [],
   "source": [
    "# Drop The Duolicates"
   ]
  },
  {
   "cell_type": "code",
   "execution_count": null,
   "metadata": {},
   "outputs": [],
   "source": [
    "# show the data after deleting the dupolicates"
   ]
  },
  {
   "cell_type": "markdown",
   "metadata": {},
   "source": [
    "### Task 2: \n",
    "**Is there any Null Value present in any column?**  "
   ]
  },
  {
   "cell_type": "code",
   "execution_count": null,
   "metadata": {},
   "outputs": [],
   "source": [
    "# use .isnull() method."
   ]
  },
  {
   "cell_type": "markdown",
   "metadata": {},
   "source": [
    "\n",
    "### Q3: \n",
    "**How many Movies & TV Shows are in the dataset?**  \n",
    "\n"
   ]
  },
  {
   "cell_type": "code",
   "execution_count": null,
   "metadata": {},
   "outputs": [],
   "source": [
    "# use Value counts"
   ]
  },
  {
   "cell_type": "markdown",
   "metadata": {},
   "source": [
    "\n",
    "### Q.1:\n",
    "**For 'House of Cards', what is the Show Id and Who is the Director of this show?**"
   ]
  },
  {
   "cell_type": "code",
   "execution_count": null,
   "metadata": {},
   "outputs": [],
   "source": [
    "# Mehtod 01 \n"
   ]
  },
  {
   "cell_type": "code",
   "execution_count": null,
   "metadata": {},
   "outputs": [],
   "source": [
    "# Method 02 \n"
   ]
  },
  {
   "cell_type": "code",
   "execution_count": null,
   "metadata": {},
   "outputs": [],
   "source": [
    "# Method 03 \n"
   ]
  },
  {
   "cell_type": "markdown",
   "metadata": {},
   "source": [
    "### Q.2:\n",
    "**In which year highest number of the TV Shows & Movies were released? Show with Bar Graph.**\n"
   ]
  },
  {
   "cell_type": "code",
   "execution_count": null,
   "metadata": {},
   "outputs": [],
   "source": [
    "\n"
   ]
  },
  {
   "cell_type": "code",
   "execution_count": null,
   "metadata": {},
   "outputs": [],
   "source": []
  },
  {
   "cell_type": "code",
   "execution_count": null,
   "metadata": {},
   "outputs": [],
   "source": [
    "\n"
   ]
  },
  {
   "cell_type": "markdown",
   "metadata": {},
   "source": [
    "### Q3: \n",
    "**How many Movies & TV Shows are in the dataset?**  \n",
    "Show with a Pie Chart."
   ]
  },
  {
   "cell_type": "code",
   "execution_count": null,
   "metadata": {},
   "outputs": [],
   "source": []
  },
  {
   "cell_type": "code",
   "execution_count": null,
   "metadata": {},
   "outputs": [],
   "source": []
  },
  {
   "cell_type": "markdown",
   "metadata": {},
   "source": [
    "### Q4: \n",
    "**Show all the Movies that were released in the year 2000.**"
   ]
  },
  {
   "cell_type": "code",
   "execution_count": null,
   "metadata": {},
   "outputs": [],
   "source": []
  },
  {
   "cell_type": "code",
   "execution_count": null,
   "metadata": {},
   "outputs": [],
   "source": []
  },
  {
   "cell_type": "markdown",
   "metadata": {},
   "source": [
    "### Q5: \n",
    "**Show only the Titles of all TV Shows that were released in United States only.**\n"
   ]
  },
  {
   "cell_type": "code",
   "execution_count": null,
   "metadata": {},
   "outputs": [],
   "source": []
  },
  {
   "cell_type": "code",
   "execution_count": null,
   "metadata": {},
   "outputs": [],
   "source": []
  },
  {
   "cell_type": "markdown",
   "metadata": {},
   "source": [
    "### Q6: \n",
    "**Show the Top 10 Directors who gave the highest number of TV Shows & Movies to Netflix.**"
   ]
  },
  {
   "cell_type": "code",
   "execution_count": null,
   "metadata": {},
   "outputs": [],
   "source": []
  },
  {
   "cell_type": "code",
   "execution_count": null,
   "metadata": {},
   "outputs": [],
   "source": []
  },
  {
   "cell_type": "markdown",
   "metadata": {},
   "source": [
    "### Q7: \n",
    "**Show all the Records where \"Category is Movie and Type is Comedies\" or \"Country is United Kingdom\".**"
   ]
  },
  {
   "cell_type": "code",
   "execution_count": null,
   "metadata": {},
   "outputs": [],
   "source": []
  },
  {
   "cell_type": "code",
   "execution_count": null,
   "metadata": {},
   "outputs": [],
   "source": []
  },
  {
   "cell_type": "code",
   "execution_count": null,
   "metadata": {},
   "outputs": [],
   "source": []
  },
  {
   "cell_type": "markdown",
   "metadata": {},
   "source": [
    "### Q8: \n",
    "**In how many movies/shows was Tom Cruise cast?**\n"
   ]
  },
  {
   "cell_type": "code",
   "execution_count": null,
   "metadata": {},
   "outputs": [],
   "source": []
  },
  {
   "cell_type": "code",
   "execution_count": null,
   "metadata": {},
   "outputs": [],
   "source": []
  },
  {
   "cell_type": "code",
   "execution_count": null,
   "metadata": {},
   "outputs": [],
   "source": []
  },
  {
   "cell_type": "markdown",
   "metadata": {},
   "source": [
    "### Q9: \n",
    "**What are the different Ratings defined by Netflix?**"
   ]
  },
  {
   "cell_type": "code",
   "execution_count": null,
   "metadata": {},
   "outputs": [],
   "source": []
  },
  {
   "cell_type": "code",
   "execution_count": null,
   "metadata": {},
   "outputs": [],
   "source": []
  },
  {
   "cell_type": "markdown",
   "metadata": {},
   "source": [
    "\n",
    "#### Q9.1: \n",
    "**How many Movies got the \"TV-14\" rating, in Canada?**\n",
    "\n"
   ]
  },
  {
   "cell_type": "code",
   "execution_count": null,
   "metadata": {},
   "outputs": [],
   "source": []
  },
  {
   "cell_type": "markdown",
   "metadata": {},
   "source": [
    "\n",
    "#### Q9.2: \n",
    "**How many TV Shows got the 'R' rating, after the year 2018?**"
   ]
  },
  {
   "cell_type": "code",
   "execution_count": null,
   "metadata": {},
   "outputs": [],
   "source": []
  },
  {
   "cell_type": "code",
   "execution_count": null,
   "metadata": {},
   "outputs": [],
   "source": []
  },
  {
   "cell_type": "markdown",
   "metadata": {},
   "source": []
  },
  {
   "cell_type": "markdown",
   "metadata": {},
   "source": [
    "\n",
    "\n",
    "### Q10: \n",
    "**What is the maximum duration of a Movie/Show on Netflix?**\n"
   ]
  },
  {
   "cell_type": "code",
   "execution_count": null,
   "metadata": {},
   "outputs": [],
   "source": []
  },
  {
   "cell_type": "markdown",
   "metadata": {},
   "source": [
    "\n",
    "### Q11: \n",
    "**Which individual country has the Highest No. of TV Shows?**\n"
   ]
  },
  {
   "cell_type": "code",
   "execution_count": null,
   "metadata": {},
   "outputs": [],
   "source": []
  },
  {
   "cell_type": "markdown",
   "metadata": {},
   "source": [
    "\n",
    "### Q12: \n",
    "\n",
    "**How can we sort the dataset by Year?**"
   ]
  },
  {
   "cell_type": "code",
   "execution_count": null,
   "metadata": {},
   "outputs": [],
   "source": []
  },
  {
   "cell_type": "markdown",
   "metadata": {},
   "source": [
    "\n",
    "\n",
    "### Q13: \n",
    "**Find all the instances where:**\n",
    "- Category is 'Movie' and Type is 'Dramas'\n",
    "- Or Category is 'TV Show' & Type is 'Kids' TV'"
   ]
  },
  {
   "cell_type": "code",
   "execution_count": null,
   "metadata": {},
   "outputs": [],
   "source": []
  },
  {
   "cell_type": "markdown",
   "metadata": {},
   "source": []
  },
  {
   "cell_type": "code",
   "execution_count": null,
   "metadata": {},
   "outputs": [],
   "source": []
  },
  {
   "cell_type": "markdown",
   "metadata": {},
   "source": [
    "# `You've made incredible progress.`\n",
    "# `Keep up the great work and believe in yourself!`"
   ]
  }
 ],
 "metadata": {
  "kernelspec": {
   "display_name": "Python 3",
   "language": "python",
   "name": "python3"
  },
  "language_info": {
   "codemirror_mode": {
    "name": "ipython",
    "version": 3
   },
   "file_extension": ".py",
   "mimetype": "text/x-python",
   "name": "python",
   "nbconvert_exporter": "python",
   "pygments_lexer": "ipython3",
   "version": "3.12.4"
  }
 },
 "nbformat": 4,
 "nbformat_minor": 2
}
