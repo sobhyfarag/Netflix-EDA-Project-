{
 "cells": [
  {
   "cell_type": "markdown",
   "metadata": {},
   "source": [
    "<B> About this Dataset:</b> Netflix is one of the most popular media and video streaming platforms. <br>They have over 8000 movies or tv shows available on their platform, as of mid-2021, they have over 200M Subscribers globally.<br> This tabular dataset consists of listings of all the movies and tv shows available on Netflix, along with details such as - cast, directors, ratings, release year, duration, etc."
   ]
  },
  {
   "cell_type": "markdown",
   "metadata": {},
   "source": [
    "| Methods/Functions            | Description/Usage                          |\n",
    "|------------------------------|--------------------------------------------|\n",
    "| `head()`, `tail()`            | Viewing the first and last rows of a DataFrame |\n",
    "| `shape`, `size`, `columns`    | Checking DataFrame structure               |\n",
    "| `duplicate()`, `isnull()`, `dropna()` | Handling duplicates and missing data |\n",
    "| Creating New Columns          | Adding new calculated columns              |\n",
    "| Creating New DataFrame        | Initializing a new DataFrame               |\n",
    "| Filtering (Single Column), `isin()` | Filtering data based on specific conditions |\n",
    "| `str.contains()`, `str.split()` | String operations within DataFrames       |\n",
    "| `dtypes`, `info()`            | Checking data types and general information |\n",
    "| `value_counts()`, `unique()`, `nunique()` | Counting unique values in columns |\n",
    "| `to_datetime()`, `dt.year.value_counts()` | Handling and analyzing datetime data |\n",
    "| `groupby()`                   | Grouping data for aggregation              |\n",
    "| `countplot()`                 | Creating count plots with Seaborn          |\n",
    "| `max()`, `min()`, `mean()`    | Calculating statistical summaries          |\n",
    "| Filtering (Multiple Columns)  | Applying filters across multiple columns   |\n",
    "| Filtering with `And`, `OR`    | Combining filters using logical operators  |\n",
    "| Seaborn - Bar Graphs          | Visualizing data with bar graphs           |\n"
   ]
  },
  {
   "cell_type": "code",
   "execution_count": null,
   "metadata": {},
   "outputs": [],
   "source": [
    "df[['director', 'cast', 'country']] = df[['director', 'cast', 'country']].replace(np.nan, \"Unknown \")"
   ]
  },
  {
   "cell_type": "markdown",
   "metadata": {},
   "source": [
    "### Task 1: \n",
    "**Is there any Duplicate Record in this dataset?**  \n",
    "If yes, then remove the duplicate records.\n",
    "\n",
    "### Task 2: \n",
    "**Is there any Null Value present in any column?**  \n",
    "Show with a Heat-map.\n",
    "\n",
    "---\n",
    "\n",
    "### Q.1:\n",
    "**For 'House of Cards', what is the Show Id and Who is the Director of this show?**\n",
    "\n",
    "### Q.2:\n",
    "**In which year highest number of the TV Shows & Movies were released? Show with Bar Graph.**\n",
    "\n",
    "### Q3: \n",
    "**How many Movies & TV Shows are in the dataset?**  \n",
    "Show with a Bar Graph.\n",
    "\n",
    "### Q4: \n",
    "**Show all the Movies that were released in the year 2000.**\n",
    "\n",
    "### Q5: \n",
    "**Show only the Titles of all TV Shows that were released in India only.**\n",
    "\n",
    "### Q6: \n",
    "**Show the Top 10 Directors who gave the highest number of TV Shows & Movies to Netflix.**\n",
    "\n",
    "### Q7: \n",
    "**Show all the Records where \"Category is Movie and Type is Comedies\" or \"Country is United Kingdom\".**\n",
    "\n",
    "### Q8: \n",
    "**In how many movies/shows was Tom Cruise cast?**\n",
    "\n",
    "### Q9: \n",
    "**What are the different Ratings defined by Netflix?**\n",
    "\n",
    "#### Q9.1: \n",
    "**How many Movies got the \"TV-14\" rating, in Canada?**\n",
    "\n",
    "#### Q9.2: \n",
    "**How many TV Shows got the 'R' rating, after the year 2018?**\n",
    "\n",
    "### Q10: \n",
    "**What is the maximum duration of a Movie/Show on Netflix?**\n",
    "\n",
    "### Q11: \n",
    "**Which individual country has the Highest No. of TV Shows?**\n",
    "\n",
    "\n",
    "### Q12: \n",
    "**How can we sort the dataset by Year?**\n",
    "\n",
    "### Q13: \n",
    "**Find all the instances where:**\n",
    "- Category is 'Movie' and Type is 'Dramas'\n",
    "- Or Category is 'TV Show' & Type is 'Kids' TV'\n"
   ]
  },
  {
   "cell_type": "markdown",
   "metadata": {},
   "source": []
  },
  {
   "cell_type": "code",
   "execution_count": 181,
   "metadata": {},
   "outputs": [],
   "source": [
    "import pandas as pd"
   ]
  },
  {
   "cell_type": "code",
   "execution_count": 182,
   "metadata": {},
   "outputs": [],
   "source": [
    "df= pd.read_csv('C:/Users/sobhy/Downloads/file.csv')    \n"
   ]
  },
  {
   "cell_type": "markdown",
   "metadata": {},
   "source": [
    "## Exploring the dataset: "
   ]
  },
  {
   "cell_type": "code",
   "execution_count": 183,
   "metadata": {},
   "outputs": [
    {
     "data": {
      "text/plain": [
       "(7789, 11)"
      ]
     },
     "execution_count": 183,
     "metadata": {},
     "output_type": "execute_result"
    }
   ],
   "source": [
    "df.shape\n"
   ]
  },
  {
   "cell_type": "code",
   "execution_count": 184,
   "metadata": {},
   "outputs": [
    {
     "name": "stdout",
     "output_type": "stream",
     "text": [
      "<class 'pandas.core.frame.DataFrame'>\n",
      "RangeIndex: 7789 entries, 0 to 7788\n",
      "Data columns (total 11 columns):\n",
      " #   Column        Non-Null Count  Dtype \n",
      "---  ------        --------------  ----- \n",
      " 0   Show_Id       7789 non-null   object\n",
      " 1   Category      7789 non-null   object\n",
      " 2   Title         7789 non-null   object\n",
      " 3   Director      5401 non-null   object\n",
      " 4   Cast          7071 non-null   object\n",
      " 5   Country       7282 non-null   object\n",
      " 6   Release_Date  7779 non-null   object\n",
      " 7   Rating        7782 non-null   object\n",
      " 8   Duration      7789 non-null   object\n",
      " 9   Type          7789 non-null   object\n",
      " 10  Description   7789 non-null   object\n",
      "dtypes: object(11)\n",
      "memory usage: 669.5+ KB\n"
     ]
    }
   ],
   "source": [
    "df.info()"
   ]
  },
  {
   "cell_type": "code",
   "execution_count": 185,
   "metadata": {},
   "outputs": [
    {
     "data": {
      "text/html": [
       "<div>\n",
       "<style scoped>\n",
       "    .dataframe tbody tr th:only-of-type {\n",
       "        vertical-align: middle;\n",
       "    }\n",
       "\n",
       "    .dataframe tbody tr th {\n",
       "        vertical-align: top;\n",
       "    }\n",
       "\n",
       "    .dataframe thead th {\n",
       "        text-align: right;\n",
       "    }\n",
       "</style>\n",
       "<table border=\"1\" class=\"dataframe\">\n",
       "  <thead>\n",
       "    <tr style=\"text-align: right;\">\n",
       "      <th></th>\n",
       "      <th>Show_Id</th>\n",
       "      <th>Category</th>\n",
       "      <th>Title</th>\n",
       "      <th>Director</th>\n",
       "      <th>Cast</th>\n",
       "      <th>Country</th>\n",
       "      <th>Release_Date</th>\n",
       "      <th>Rating</th>\n",
       "      <th>Duration</th>\n",
       "      <th>Type</th>\n",
       "      <th>Description</th>\n",
       "    </tr>\n",
       "  </thead>\n",
       "  <tbody>\n",
       "    <tr>\n",
       "      <th>0</th>\n",
       "      <td>s1</td>\n",
       "      <td>TV Show</td>\n",
       "      <td>3%</td>\n",
       "      <td>NaN</td>\n",
       "      <td>João Miguel, Bianca Comparato, Michel Gomes, R...</td>\n",
       "      <td>Brazil</td>\n",
       "      <td>August 14, 2020</td>\n",
       "      <td>TV-MA</td>\n",
       "      <td>4 Seasons</td>\n",
       "      <td>International TV Shows, TV Dramas, TV Sci-Fi &amp;...</td>\n",
       "      <td>In a future where the elite inhabit an island ...</td>\n",
       "    </tr>\n",
       "    <tr>\n",
       "      <th>1</th>\n",
       "      <td>s2</td>\n",
       "      <td>Movie</td>\n",
       "      <td>07:19</td>\n",
       "      <td>Jorge Michel Grau</td>\n",
       "      <td>Demián Bichir, Héctor Bonilla, Oscar Serrano, ...</td>\n",
       "      <td>Mexico</td>\n",
       "      <td>December 23, 2016</td>\n",
       "      <td>TV-MA</td>\n",
       "      <td>93 min</td>\n",
       "      <td>Dramas, International Movies</td>\n",
       "      <td>After a devastating earthquake hits Mexico Cit...</td>\n",
       "    </tr>\n",
       "    <tr>\n",
       "      <th>2</th>\n",
       "      <td>s3</td>\n",
       "      <td>Movie</td>\n",
       "      <td>23:59</td>\n",
       "      <td>Gilbert Chan</td>\n",
       "      <td>Tedd Chan, Stella Chung, Henley Hii, Lawrence ...</td>\n",
       "      <td>Singapore</td>\n",
       "      <td>December 20, 2018</td>\n",
       "      <td>R</td>\n",
       "      <td>78 min</td>\n",
       "      <td>Horror Movies, International Movies</td>\n",
       "      <td>When an army recruit is found dead, his fellow...</td>\n",
       "    </tr>\n",
       "    <tr>\n",
       "      <th>3</th>\n",
       "      <td>s4</td>\n",
       "      <td>Movie</td>\n",
       "      <td>9</td>\n",
       "      <td>Shane Acker</td>\n",
       "      <td>Elijah Wood, John C. Reilly, Jennifer Connelly...</td>\n",
       "      <td>United States</td>\n",
       "      <td>November 16, 2017</td>\n",
       "      <td>PG-13</td>\n",
       "      <td>80 min</td>\n",
       "      <td>Action &amp; Adventure, Independent Movies, Sci-Fi...</td>\n",
       "      <td>In a postapocalyptic world, rag-doll robots hi...</td>\n",
       "    </tr>\n",
       "    <tr>\n",
       "      <th>4</th>\n",
       "      <td>s5</td>\n",
       "      <td>Movie</td>\n",
       "      <td>21</td>\n",
       "      <td>Robert Luketic</td>\n",
       "      <td>Jim Sturgess, Kevin Spacey, Kate Bosworth, Aar...</td>\n",
       "      <td>United States</td>\n",
       "      <td>January 1, 2020</td>\n",
       "      <td>PG-13</td>\n",
       "      <td>123 min</td>\n",
       "      <td>Dramas</td>\n",
       "      <td>A brilliant group of students become card-coun...</td>\n",
       "    </tr>\n",
       "  </tbody>\n",
       "</table>\n",
       "</div>"
      ],
      "text/plain": [
       "  Show_Id Category  Title           Director  \\\n",
       "0      s1  TV Show     3%                NaN   \n",
       "1      s2    Movie  07:19  Jorge Michel Grau   \n",
       "2      s3    Movie  23:59       Gilbert Chan   \n",
       "3      s4    Movie      9        Shane Acker   \n",
       "4      s5    Movie     21     Robert Luketic   \n",
       "\n",
       "                                                Cast        Country  \\\n",
       "0  João Miguel, Bianca Comparato, Michel Gomes, R...         Brazil   \n",
       "1  Demián Bichir, Héctor Bonilla, Oscar Serrano, ...         Mexico   \n",
       "2  Tedd Chan, Stella Chung, Henley Hii, Lawrence ...      Singapore   \n",
       "3  Elijah Wood, John C. Reilly, Jennifer Connelly...  United States   \n",
       "4  Jim Sturgess, Kevin Spacey, Kate Bosworth, Aar...  United States   \n",
       "\n",
       "        Release_Date Rating   Duration  \\\n",
       "0    August 14, 2020  TV-MA  4 Seasons   \n",
       "1  December 23, 2016  TV-MA     93 min   \n",
       "2  December 20, 2018      R     78 min   \n",
       "3  November 16, 2017  PG-13     80 min   \n",
       "4    January 1, 2020  PG-13    123 min   \n",
       "\n",
       "                                                Type  \\\n",
       "0  International TV Shows, TV Dramas, TV Sci-Fi &...   \n",
       "1                       Dramas, International Movies   \n",
       "2                Horror Movies, International Movies   \n",
       "3  Action & Adventure, Independent Movies, Sci-Fi...   \n",
       "4                                             Dramas   \n",
       "\n",
       "                                         Description  \n",
       "0  In a future where the elite inhabit an island ...  \n",
       "1  After a devastating earthquake hits Mexico Cit...  \n",
       "2  When an army recruit is found dead, his fellow...  \n",
       "3  In a postapocalyptic world, rag-doll robots hi...  \n",
       "4  A brilliant group of students become card-coun...  "
      ]
     },
     "execution_count": 185,
     "metadata": {},
     "output_type": "execute_result"
    }
   ],
   "source": [
    "df.head()"
   ]
  },
  {
   "cell_type": "code",
   "execution_count": 186,
   "metadata": {},
   "outputs": [
    {
     "data": {
      "text/plain": [
       "85679"
      ]
     },
     "execution_count": 186,
     "metadata": {},
     "output_type": "execute_result"
    }
   ],
   "source": [
    "# show the size of the DataFrame \n",
    "df.size"
   ]
  },
  {
   "cell_type": "code",
   "execution_count": 187,
   "metadata": {},
   "outputs": [
    {
     "data": {
      "text/plain": [
       "Index(['Show_Id', 'Category', 'Title', 'Director', 'Cast', 'Country',\n",
       "       'Release_Date', 'Rating', 'Duration', 'Type', 'Description'],\n",
       "      dtype='object')"
      ]
     },
     "execution_count": 187,
     "metadata": {},
     "output_type": "execute_result"
    }
   ],
   "source": [
    "# how the columns names\n",
    "df.columns"
   ]
  },
  {
   "cell_type": "code",
   "execution_count": 188,
   "metadata": {},
   "outputs": [
    {
     "data": {
      "text/plain": [
       "Show_Id         object\n",
       "Category        object\n",
       "Title           object\n",
       "Director        object\n",
       "Cast            object\n",
       "Country         object\n",
       "Release_Date    object\n",
       "Rating          object\n",
       "Duration        object\n",
       "Type            object\n",
       "Description     object\n",
       "dtype: object"
      ]
     },
     "execution_count": 188,
     "metadata": {},
     "output_type": "execute_result"
    }
   ],
   "source": [
    "# Show the columns types:\n",
    "df.dtypes"
   ]
  },
  {
   "cell_type": "markdown",
   "metadata": {},
   "source": [
    "### Task 1: \n",
    "**Is there any Duplicate Record in this dataset?**  \n",
    "If yes, then remove the duplicate records."
   ]
  },
  {
   "cell_type": "code",
   "execution_count": 189,
   "metadata": {},
   "outputs": [
    {
     "data": {
      "text/plain": [
       "np.int64(2)"
      ]
     },
     "execution_count": 189,
     "metadata": {},
     "output_type": "execute_result"
    }
   ],
   "source": [
    "# no. of duplictes:\n",
    "df.duplicated().sum()"
   ]
  },
  {
   "cell_type": "code",
   "execution_count": 190,
   "metadata": {},
   "outputs": [
    {
     "data": {
      "text/html": [
       "<div>\n",
       "<style scoped>\n",
       "    .dataframe tbody tr th:only-of-type {\n",
       "        vertical-align: middle;\n",
       "    }\n",
       "\n",
       "    .dataframe tbody tr th {\n",
       "        vertical-align: top;\n",
       "    }\n",
       "\n",
       "    .dataframe thead th {\n",
       "        text-align: right;\n",
       "    }\n",
       "</style>\n",
       "<table border=\"1\" class=\"dataframe\">\n",
       "  <thead>\n",
       "    <tr style=\"text-align: right;\">\n",
       "      <th></th>\n",
       "      <th>Show_Id</th>\n",
       "      <th>Category</th>\n",
       "      <th>Title</th>\n",
       "      <th>Director</th>\n",
       "      <th>Cast</th>\n",
       "      <th>Country</th>\n",
       "      <th>Release_Date</th>\n",
       "      <th>Rating</th>\n",
       "      <th>Duration</th>\n",
       "      <th>Type</th>\n",
       "      <th>Description</th>\n",
       "    </tr>\n",
       "  </thead>\n",
       "  <tbody>\n",
       "    <tr>\n",
       "      <th>6300</th>\n",
       "      <td>s684</td>\n",
       "      <td>Movie</td>\n",
       "      <td>Backfire</td>\n",
       "      <td>Dave Patten</td>\n",
       "      <td>Black Deniro, Byron \"Squally\" Vinson, Dominic ...</td>\n",
       "      <td>United States</td>\n",
       "      <td>April 5, 2019</td>\n",
       "      <td>TV-MA</td>\n",
       "      <td>97 min</td>\n",
       "      <td>Dramas, Independent Movies, Thrillers</td>\n",
       "      <td>When two would-be robbers accidentally kill a ...</td>\n",
       "    </tr>\n",
       "    <tr>\n",
       "      <th>6622</th>\n",
       "      <td>s6621</td>\n",
       "      <td>Movie</td>\n",
       "      <td>The Lost Okoroshi</td>\n",
       "      <td>Abba T. Makama</td>\n",
       "      <td>Seun Ajayi, Judith Audu, Tope Tedela, Ifu Enna...</td>\n",
       "      <td>Nigeria</td>\n",
       "      <td>September 4, 2020</td>\n",
       "      <td>TV-MA</td>\n",
       "      <td>94 min</td>\n",
       "      <td>Comedies, Dramas, Independent Movies</td>\n",
       "      <td>A disillusioned security guard transforms into...</td>\n",
       "    </tr>\n",
       "  </tbody>\n",
       "</table>\n",
       "</div>"
      ],
      "text/plain": [
       "     Show_Id Category              Title        Director  \\\n",
       "6300    s684    Movie           Backfire     Dave Patten   \n",
       "6622   s6621    Movie  The Lost Okoroshi  Abba T. Makama   \n",
       "\n",
       "                                                   Cast        Country  \\\n",
       "6300  Black Deniro, Byron \"Squally\" Vinson, Dominic ...  United States   \n",
       "6622  Seun Ajayi, Judith Audu, Tope Tedela, Ifu Enna...        Nigeria   \n",
       "\n",
       "           Release_Date Rating Duration  \\\n",
       "6300      April 5, 2019  TV-MA   97 min   \n",
       "6622  September 4, 2020  TV-MA   94 min   \n",
       "\n",
       "                                       Type  \\\n",
       "6300  Dramas, Independent Movies, Thrillers   \n",
       "6622   Comedies, Dramas, Independent Movies   \n",
       "\n",
       "                                            Description  \n",
       "6300  When two would-be robbers accidentally kill a ...  \n",
       "6622  A disillusioned security guard transforms into...  "
      ]
     },
     "execution_count": 190,
     "metadata": {},
     "output_type": "execute_result"
    }
   ],
   "source": [
    "# show the duplicates\n",
    "df [ df.duplicated()]"
   ]
  },
  {
   "cell_type": "code",
   "execution_count": 191,
   "metadata": {},
   "outputs": [],
   "source": [
    "duplicate_counts = df.groupby(list(df.columns)).size().reset_index(name='Counts')\n"
   ]
  },
  {
   "cell_type": "code",
   "execution_count": 192,
   "metadata": {},
   "outputs": [
    {
     "data": {
      "text/html": [
       "<div>\n",
       "<style scoped>\n",
       "    .dataframe tbody tr th:only-of-type {\n",
       "        vertical-align: middle;\n",
       "    }\n",
       "\n",
       "    .dataframe tbody tr th {\n",
       "        vertical-align: top;\n",
       "    }\n",
       "\n",
       "    .dataframe thead th {\n",
       "        text-align: right;\n",
       "    }\n",
       "</style>\n",
       "<table border=\"1\" class=\"dataframe\">\n",
       "  <thead>\n",
       "    <tr style=\"text-align: right;\">\n",
       "      <th></th>\n",
       "      <th>Show_Id</th>\n",
       "      <th>Category</th>\n",
       "      <th>Title</th>\n",
       "      <th>Director</th>\n",
       "      <th>Cast</th>\n",
       "      <th>Country</th>\n",
       "      <th>Release_Date</th>\n",
       "      <th>Rating</th>\n",
       "      <th>Duration</th>\n",
       "      <th>Type</th>\n",
       "      <th>Description</th>\n",
       "      <th>Counts</th>\n",
       "    </tr>\n",
       "  </thead>\n",
       "  <tbody>\n",
       "    <tr>\n",
       "      <th>3871</th>\n",
       "      <td>s6621</td>\n",
       "      <td>Movie</td>\n",
       "      <td>The Lost Okoroshi</td>\n",
       "      <td>Abba T. Makama</td>\n",
       "      <td>Seun Ajayi, Judith Audu, Tope Tedela, Ifu Enna...</td>\n",
       "      <td>Nigeria</td>\n",
       "      <td>September 4, 2020</td>\n",
       "      <td>TV-MA</td>\n",
       "      <td>94 min</td>\n",
       "      <td>Comedies, Dramas, Independent Movies</td>\n",
       "      <td>A disillusioned security guard transforms into...</td>\n",
       "      <td>2</td>\n",
       "    </tr>\n",
       "    <tr>\n",
       "      <th>4016</th>\n",
       "      <td>s684</td>\n",
       "      <td>Movie</td>\n",
       "      <td>Backfire</td>\n",
       "      <td>Dave Patten</td>\n",
       "      <td>Black Deniro, Byron \"Squally\" Vinson, Dominic ...</td>\n",
       "      <td>United States</td>\n",
       "      <td>April 5, 2019</td>\n",
       "      <td>TV-MA</td>\n",
       "      <td>97 min</td>\n",
       "      <td>Dramas, Independent Movies, Thrillers</td>\n",
       "      <td>When two would-be robbers accidentally kill a ...</td>\n",
       "      <td>2</td>\n",
       "    </tr>\n",
       "  </tbody>\n",
       "</table>\n",
       "</div>"
      ],
      "text/plain": [
       "     Show_Id Category              Title        Director  \\\n",
       "3871   s6621    Movie  The Lost Okoroshi  Abba T. Makama   \n",
       "4016    s684    Movie           Backfire     Dave Patten   \n",
       "\n",
       "                                                   Cast        Country  \\\n",
       "3871  Seun Ajayi, Judith Audu, Tope Tedela, Ifu Enna...        Nigeria   \n",
       "4016  Black Deniro, Byron \"Squally\" Vinson, Dominic ...  United States   \n",
       "\n",
       "           Release_Date Rating Duration  \\\n",
       "3871  September 4, 2020  TV-MA   94 min   \n",
       "4016      April 5, 2019  TV-MA   97 min   \n",
       "\n",
       "                                       Type  \\\n",
       "3871   Comedies, Dramas, Independent Movies   \n",
       "4016  Dramas, Independent Movies, Thrillers   \n",
       "\n",
       "                                            Description  Counts  \n",
       "3871  A disillusioned security guard transforms into...       2  \n",
       "4016  When two would-be robbers accidentally kill a ...       2  "
      ]
     },
     "execution_count": 192,
     "metadata": {},
     "output_type": "execute_result"
    }
   ],
   "source": [
    "duplicates = duplicate_counts[duplicate_counts['Counts'] > 1]\n",
    "duplicates"
   ]
  },
  {
   "cell_type": "code",
   "execution_count": 193,
   "metadata": {},
   "outputs": [
    {
     "data": {
      "text/html": [
       "<div>\n",
       "<style scoped>\n",
       "    .dataframe tbody tr th:only-of-type {\n",
       "        vertical-align: middle;\n",
       "    }\n",
       "\n",
       "    .dataframe tbody tr th {\n",
       "        vertical-align: top;\n",
       "    }\n",
       "\n",
       "    .dataframe thead th {\n",
       "        text-align: right;\n",
       "    }\n",
       "</style>\n",
       "<table border=\"1\" class=\"dataframe\">\n",
       "  <thead>\n",
       "    <tr style=\"text-align: right;\">\n",
       "      <th></th>\n",
       "      <th>Show_Id</th>\n",
       "      <th>Category</th>\n",
       "      <th>Title</th>\n",
       "      <th>Director</th>\n",
       "      <th>Cast</th>\n",
       "      <th>Country</th>\n",
       "      <th>Release_Date</th>\n",
       "      <th>Rating</th>\n",
       "      <th>Duration</th>\n",
       "      <th>Type</th>\n",
       "      <th>Description</th>\n",
       "    </tr>\n",
       "  </thead>\n",
       "  <tbody>\n",
       "    <tr>\n",
       "      <th>0</th>\n",
       "      <td>s1</td>\n",
       "      <td>TV Show</td>\n",
       "      <td>3%</td>\n",
       "      <td>NaN</td>\n",
       "      <td>João Miguel, Bianca Comparato, Michel Gomes, R...</td>\n",
       "      <td>Brazil</td>\n",
       "      <td>August 14, 2020</td>\n",
       "      <td>TV-MA</td>\n",
       "      <td>4 Seasons</td>\n",
       "      <td>International TV Shows, TV Dramas, TV Sci-Fi &amp;...</td>\n",
       "      <td>In a future where the elite inhabit an island ...</td>\n",
       "    </tr>\n",
       "    <tr>\n",
       "      <th>1</th>\n",
       "      <td>s2</td>\n",
       "      <td>Movie</td>\n",
       "      <td>07:19</td>\n",
       "      <td>Jorge Michel Grau</td>\n",
       "      <td>Demián Bichir, Héctor Bonilla, Oscar Serrano, ...</td>\n",
       "      <td>Mexico</td>\n",
       "      <td>December 23, 2016</td>\n",
       "      <td>TV-MA</td>\n",
       "      <td>93 min</td>\n",
       "      <td>Dramas, International Movies</td>\n",
       "      <td>After a devastating earthquake hits Mexico Cit...</td>\n",
       "    </tr>\n",
       "    <tr>\n",
       "      <th>2</th>\n",
       "      <td>s3</td>\n",
       "      <td>Movie</td>\n",
       "      <td>23:59</td>\n",
       "      <td>Gilbert Chan</td>\n",
       "      <td>Tedd Chan, Stella Chung, Henley Hii, Lawrence ...</td>\n",
       "      <td>Singapore</td>\n",
       "      <td>December 20, 2018</td>\n",
       "      <td>R</td>\n",
       "      <td>78 min</td>\n",
       "      <td>Horror Movies, International Movies</td>\n",
       "      <td>When an army recruit is found dead, his fellow...</td>\n",
       "    </tr>\n",
       "    <tr>\n",
       "      <th>3</th>\n",
       "      <td>s4</td>\n",
       "      <td>Movie</td>\n",
       "      <td>9</td>\n",
       "      <td>Shane Acker</td>\n",
       "      <td>Elijah Wood, John C. Reilly, Jennifer Connelly...</td>\n",
       "      <td>United States</td>\n",
       "      <td>November 16, 2017</td>\n",
       "      <td>PG-13</td>\n",
       "      <td>80 min</td>\n",
       "      <td>Action &amp; Adventure, Independent Movies, Sci-Fi...</td>\n",
       "      <td>In a postapocalyptic world, rag-doll robots hi...</td>\n",
       "    </tr>\n",
       "    <tr>\n",
       "      <th>4</th>\n",
       "      <td>s5</td>\n",
       "      <td>Movie</td>\n",
       "      <td>21</td>\n",
       "      <td>Robert Luketic</td>\n",
       "      <td>Jim Sturgess, Kevin Spacey, Kate Bosworth, Aar...</td>\n",
       "      <td>United States</td>\n",
       "      <td>January 1, 2020</td>\n",
       "      <td>PG-13</td>\n",
       "      <td>123 min</td>\n",
       "      <td>Dramas</td>\n",
       "      <td>A brilliant group of students become card-coun...</td>\n",
       "    </tr>\n",
       "    <tr>\n",
       "      <th>...</th>\n",
       "      <td>...</td>\n",
       "      <td>...</td>\n",
       "      <td>...</td>\n",
       "      <td>...</td>\n",
       "      <td>...</td>\n",
       "      <td>...</td>\n",
       "      <td>...</td>\n",
       "      <td>...</td>\n",
       "      <td>...</td>\n",
       "      <td>...</td>\n",
       "      <td>...</td>\n",
       "    </tr>\n",
       "    <tr>\n",
       "      <th>7784</th>\n",
       "      <td>s7783</td>\n",
       "      <td>Movie</td>\n",
       "      <td>Zozo</td>\n",
       "      <td>Josef Fares</td>\n",
       "      <td>Imad Creidi, Antoinette Turk, Elias Gergi, Car...</td>\n",
       "      <td>Sweden, Czech Republic, United Kingdom, Denmar...</td>\n",
       "      <td>October 19, 2020</td>\n",
       "      <td>TV-MA</td>\n",
       "      <td>99 min</td>\n",
       "      <td>Dramas, International Movies</td>\n",
       "      <td>When Lebanon's Civil War deprives Zozo of his ...</td>\n",
       "    </tr>\n",
       "    <tr>\n",
       "      <th>7785</th>\n",
       "      <td>s7784</td>\n",
       "      <td>Movie</td>\n",
       "      <td>Zubaan</td>\n",
       "      <td>Mozez Singh</td>\n",
       "      <td>Vicky Kaushal, Sarah-Jane Dias, Raaghav Chanan...</td>\n",
       "      <td>India</td>\n",
       "      <td>March 2, 2019</td>\n",
       "      <td>TV-14</td>\n",
       "      <td>111 min</td>\n",
       "      <td>Dramas, International Movies, Music &amp; Musicals</td>\n",
       "      <td>A scrappy but poor boy worms his way into a ty...</td>\n",
       "    </tr>\n",
       "    <tr>\n",
       "      <th>7786</th>\n",
       "      <td>s7785</td>\n",
       "      <td>Movie</td>\n",
       "      <td>Zulu Man in Japan</td>\n",
       "      <td>NaN</td>\n",
       "      <td>Nasty C</td>\n",
       "      <td>NaN</td>\n",
       "      <td>September 25, 2020</td>\n",
       "      <td>TV-MA</td>\n",
       "      <td>44 min</td>\n",
       "      <td>Documentaries, International Movies, Music &amp; M...</td>\n",
       "      <td>In this documentary, South African rapper Nast...</td>\n",
       "    </tr>\n",
       "    <tr>\n",
       "      <th>7787</th>\n",
       "      <td>s7786</td>\n",
       "      <td>TV Show</td>\n",
       "      <td>Zumbo's Just Desserts</td>\n",
       "      <td>NaN</td>\n",
       "      <td>Adriano Zumbo, Rachel Khoo</td>\n",
       "      <td>Australia</td>\n",
       "      <td>October 31, 2020</td>\n",
       "      <td>TV-PG</td>\n",
       "      <td>1 Season</td>\n",
       "      <td>International TV Shows, Reality TV</td>\n",
       "      <td>Dessert wizard Adriano Zumbo looks for the nex...</td>\n",
       "    </tr>\n",
       "    <tr>\n",
       "      <th>7788</th>\n",
       "      <td>s7787</td>\n",
       "      <td>Movie</td>\n",
       "      <td>ZZ TOP: THAT LITTLE OL' BAND FROM TEXAS</td>\n",
       "      <td>Sam Dunn</td>\n",
       "      <td>NaN</td>\n",
       "      <td>United Kingdom, Canada, United States</td>\n",
       "      <td>March 1, 2020</td>\n",
       "      <td>TV-MA</td>\n",
       "      <td>90 min</td>\n",
       "      <td>Documentaries, Music &amp; Musicals</td>\n",
       "      <td>This documentary delves into the mystique behi...</td>\n",
       "    </tr>\n",
       "  </tbody>\n",
       "</table>\n",
       "<p>7787 rows × 11 columns</p>\n",
       "</div>"
      ],
      "text/plain": [
       "     Show_Id Category                                    Title  \\\n",
       "0         s1  TV Show                                       3%   \n",
       "1         s2    Movie                                    07:19   \n",
       "2         s3    Movie                                    23:59   \n",
       "3         s4    Movie                                        9   \n",
       "4         s5    Movie                                       21   \n",
       "...      ...      ...                                      ...   \n",
       "7784   s7783    Movie                                     Zozo   \n",
       "7785   s7784    Movie                                   Zubaan   \n",
       "7786   s7785    Movie                        Zulu Man in Japan   \n",
       "7787   s7786  TV Show                    Zumbo's Just Desserts   \n",
       "7788   s7787    Movie  ZZ TOP: THAT LITTLE OL' BAND FROM TEXAS   \n",
       "\n",
       "               Director                                               Cast  \\\n",
       "0                   NaN  João Miguel, Bianca Comparato, Michel Gomes, R...   \n",
       "1     Jorge Michel Grau  Demián Bichir, Héctor Bonilla, Oscar Serrano, ...   \n",
       "2          Gilbert Chan  Tedd Chan, Stella Chung, Henley Hii, Lawrence ...   \n",
       "3           Shane Acker  Elijah Wood, John C. Reilly, Jennifer Connelly...   \n",
       "4        Robert Luketic  Jim Sturgess, Kevin Spacey, Kate Bosworth, Aar...   \n",
       "...                 ...                                                ...   \n",
       "7784        Josef Fares  Imad Creidi, Antoinette Turk, Elias Gergi, Car...   \n",
       "7785        Mozez Singh  Vicky Kaushal, Sarah-Jane Dias, Raaghav Chanan...   \n",
       "7786                NaN                                            Nasty C   \n",
       "7787                NaN                         Adriano Zumbo, Rachel Khoo   \n",
       "7788           Sam Dunn                                                NaN   \n",
       "\n",
       "                                                Country        Release_Date  \\\n",
       "0                                                Brazil     August 14, 2020   \n",
       "1                                                Mexico   December 23, 2016   \n",
       "2                                             Singapore   December 20, 2018   \n",
       "3                                         United States   November 16, 2017   \n",
       "4                                         United States     January 1, 2020   \n",
       "...                                                 ...                 ...   \n",
       "7784  Sweden, Czech Republic, United Kingdom, Denmar...    October 19, 2020   \n",
       "7785                                              India       March 2, 2019   \n",
       "7786                                                NaN  September 25, 2020   \n",
       "7787                                          Australia    October 31, 2020   \n",
       "7788              United Kingdom, Canada, United States       March 1, 2020   \n",
       "\n",
       "     Rating   Duration                                               Type  \\\n",
       "0     TV-MA  4 Seasons  International TV Shows, TV Dramas, TV Sci-Fi &...   \n",
       "1     TV-MA     93 min                       Dramas, International Movies   \n",
       "2         R     78 min                Horror Movies, International Movies   \n",
       "3     PG-13     80 min  Action & Adventure, Independent Movies, Sci-Fi...   \n",
       "4     PG-13    123 min                                             Dramas   \n",
       "...     ...        ...                                                ...   \n",
       "7784  TV-MA     99 min                       Dramas, International Movies   \n",
       "7785  TV-14    111 min     Dramas, International Movies, Music & Musicals   \n",
       "7786  TV-MA     44 min  Documentaries, International Movies, Music & M...   \n",
       "7787  TV-PG   1 Season                 International TV Shows, Reality TV   \n",
       "7788  TV-MA     90 min                    Documentaries, Music & Musicals   \n",
       "\n",
       "                                            Description  \n",
       "0     In a future where the elite inhabit an island ...  \n",
       "1     After a devastating earthquake hits Mexico Cit...  \n",
       "2     When an army recruit is found dead, his fellow...  \n",
       "3     In a postapocalyptic world, rag-doll robots hi...  \n",
       "4     A brilliant group of students become card-coun...  \n",
       "...                                                 ...  \n",
       "7784  When Lebanon's Civil War deprives Zozo of his ...  \n",
       "7785  A scrappy but poor boy worms his way into a ty...  \n",
       "7786  In this documentary, South African rapper Nast...  \n",
       "7787  Dessert wizard Adriano Zumbo looks for the nex...  \n",
       "7788  This documentary delves into the mystique behi...  \n",
       "\n",
       "[7787 rows x 11 columns]"
      ]
     },
     "execution_count": 193,
     "metadata": {},
     "output_type": "execute_result"
    }
   ],
   "source": [
    "df.drop_duplicates()"
   ]
  },
  {
   "cell_type": "code",
   "execution_count": 194,
   "metadata": {},
   "outputs": [],
   "source": [
    "df=df.drop_duplicates()"
   ]
  },
  {
   "cell_type": "code",
   "execution_count": 195,
   "metadata": {},
   "outputs": [
    {
     "data": {
      "text/html": [
       "<div>\n",
       "<style scoped>\n",
       "    .dataframe tbody tr th:only-of-type {\n",
       "        vertical-align: middle;\n",
       "    }\n",
       "\n",
       "    .dataframe tbody tr th {\n",
       "        vertical-align: top;\n",
       "    }\n",
       "\n",
       "    .dataframe thead th {\n",
       "        text-align: right;\n",
       "    }\n",
       "</style>\n",
       "<table border=\"1\" class=\"dataframe\">\n",
       "  <thead>\n",
       "    <tr style=\"text-align: right;\">\n",
       "      <th></th>\n",
       "      <th>Show_Id</th>\n",
       "      <th>Category</th>\n",
       "      <th>Title</th>\n",
       "      <th>Director</th>\n",
       "      <th>Cast</th>\n",
       "      <th>Country</th>\n",
       "      <th>Release_Date</th>\n",
       "      <th>Rating</th>\n",
       "      <th>Duration</th>\n",
       "      <th>Type</th>\n",
       "      <th>Description</th>\n",
       "    </tr>\n",
       "  </thead>\n",
       "  <tbody>\n",
       "  </tbody>\n",
       "</table>\n",
       "</div>"
      ],
      "text/plain": [
       "Empty DataFrame\n",
       "Columns: [Show_Id, Category, Title, Director, Cast, Country, Release_Date, Rating, Duration, Type, Description]\n",
       "Index: []"
      ]
     },
     "execution_count": 195,
     "metadata": {},
     "output_type": "execute_result"
    }
   ],
   "source": [
    "df[df.duplicated()]"
   ]
  },
  {
   "cell_type": "markdown",
   "metadata": {},
   "source": [
    "### Task 2: \n",
    "**Is there any Null Value present in any column?**  "
   ]
  },
  {
   "cell_type": "code",
   "execution_count": 196,
   "metadata": {},
   "outputs": [
    {
     "data": {
      "text/plain": [
       "Show_Id            0\n",
       "Category           0\n",
       "Title              0\n",
       "Director        2388\n",
       "Cast             718\n",
       "Country          507\n",
       "Release_Date      10\n",
       "Rating             7\n",
       "Duration           0\n",
       "Type               0\n",
       "Description        0\n",
       "dtype: int64"
      ]
     },
     "execution_count": 196,
     "metadata": {},
     "output_type": "execute_result"
    }
   ],
   "source": [
    "df.isnull().sum()"
   ]
  },
  {
   "cell_type": "markdown",
   "metadata": {},
   "source": [
    "\n",
    "### Q3: \n",
    "**How many Movies & TV Shows are in the dataset?**  \n",
    "\n"
   ]
  },
  {
   "cell_type": "code",
   "execution_count": 197,
   "metadata": {},
   "outputs": [
    {
     "data": {
      "text/plain": [
       "Category\n",
       "Movie      5377\n",
       "TV Show    2410\n",
       "Name: count, dtype: int64"
      ]
     },
     "execution_count": 197,
     "metadata": {},
     "output_type": "execute_result"
    }
   ],
   "source": [
    "df.Category.value_counts()\n"
   ]
  },
  {
   "cell_type": "markdown",
   "metadata": {},
   "source": [
    "\n",
    "### Q.1:\n",
    "**For 'House of Cards', what is the Show Id and Who is the Director of this show?**"
   ]
  },
  {
   "cell_type": "code",
   "execution_count": 198,
   "metadata": {},
   "outputs": [
    {
     "data": {
      "text/html": [
       "<div>\n",
       "<style scoped>\n",
       "    .dataframe tbody tr th:only-of-type {\n",
       "        vertical-align: middle;\n",
       "    }\n",
       "\n",
       "    .dataframe tbody tr th {\n",
       "        vertical-align: top;\n",
       "    }\n",
       "\n",
       "    .dataframe thead th {\n",
       "        text-align: right;\n",
       "    }\n",
       "</style>\n",
       "<table border=\"1\" class=\"dataframe\">\n",
       "  <thead>\n",
       "    <tr style=\"text-align: right;\">\n",
       "      <th></th>\n",
       "      <th>Show_Id</th>\n",
       "      <th>Category</th>\n",
       "      <th>Title</th>\n",
       "      <th>Director</th>\n",
       "      <th>Cast</th>\n",
       "      <th>Country</th>\n",
       "      <th>Release_Date</th>\n",
       "      <th>Rating</th>\n",
       "      <th>Duration</th>\n",
       "      <th>Type</th>\n",
       "      <th>Description</th>\n",
       "    </tr>\n",
       "  </thead>\n",
       "  <tbody>\n",
       "    <tr>\n",
       "      <th>2832</th>\n",
       "      <td>s2833</td>\n",
       "      <td>TV Show</td>\n",
       "      <td>House of Cards</td>\n",
       "      <td>Robin Wright, David Fincher, Gerald McRaney, J...</td>\n",
       "      <td>Kevin Spacey, Robin Wright, Kate Mara, Corey S...</td>\n",
       "      <td>United States</td>\n",
       "      <td>November 2, 2018</td>\n",
       "      <td>TV-MA</td>\n",
       "      <td>6 Seasons</td>\n",
       "      <td>TV Dramas, TV Thrillers</td>\n",
       "      <td>A ruthless politician will stop at nothing to ...</td>\n",
       "    </tr>\n",
       "  </tbody>\n",
       "</table>\n",
       "</div>"
      ],
      "text/plain": [
       "     Show_Id Category           Title  \\\n",
       "2832   s2833  TV Show  House of Cards   \n",
       "\n",
       "                                               Director  \\\n",
       "2832  Robin Wright, David Fincher, Gerald McRaney, J...   \n",
       "\n",
       "                                                   Cast        Country  \\\n",
       "2832  Kevin Spacey, Robin Wright, Kate Mara, Corey S...  United States   \n",
       "\n",
       "          Release_Date Rating   Duration                     Type  \\\n",
       "2832  November 2, 2018  TV-MA  6 Seasons  TV Dramas, TV Thrillers   \n",
       "\n",
       "                                            Description  \n",
       "2832  A ruthless politician will stop at nothing to ...  "
      ]
     },
     "execution_count": 198,
     "metadata": {},
     "output_type": "execute_result"
    }
   ],
   "source": [
    "# Mehtod 01 \n",
    "df[df.Title == 'House of Cards']"
   ]
  },
  {
   "cell_type": "code",
   "execution_count": 199,
   "metadata": {},
   "outputs": [
    {
     "data": {
      "text/html": [
       "<div>\n",
       "<style scoped>\n",
       "    .dataframe tbody tr th:only-of-type {\n",
       "        vertical-align: middle;\n",
       "    }\n",
       "\n",
       "    .dataframe tbody tr th {\n",
       "        vertical-align: top;\n",
       "    }\n",
       "\n",
       "    .dataframe thead th {\n",
       "        text-align: right;\n",
       "    }\n",
       "</style>\n",
       "<table border=\"1\" class=\"dataframe\">\n",
       "  <thead>\n",
       "    <tr style=\"text-align: right;\">\n",
       "      <th></th>\n",
       "      <th>Show_Id</th>\n",
       "      <th>Category</th>\n",
       "      <th>Title</th>\n",
       "      <th>Director</th>\n",
       "      <th>Cast</th>\n",
       "      <th>Country</th>\n",
       "      <th>Release_Date</th>\n",
       "      <th>Rating</th>\n",
       "      <th>Duration</th>\n",
       "      <th>Type</th>\n",
       "      <th>Description</th>\n",
       "    </tr>\n",
       "  </thead>\n",
       "  <tbody>\n",
       "    <tr>\n",
       "      <th>2832</th>\n",
       "      <td>s2833</td>\n",
       "      <td>TV Show</td>\n",
       "      <td>House of Cards</td>\n",
       "      <td>Robin Wright, David Fincher, Gerald McRaney, J...</td>\n",
       "      <td>Kevin Spacey, Robin Wright, Kate Mara, Corey S...</td>\n",
       "      <td>United States</td>\n",
       "      <td>November 2, 2018</td>\n",
       "      <td>TV-MA</td>\n",
       "      <td>6 Seasons</td>\n",
       "      <td>TV Dramas, TV Thrillers</td>\n",
       "      <td>A ruthless politician will stop at nothing to ...</td>\n",
       "    </tr>\n",
       "  </tbody>\n",
       "</table>\n",
       "</div>"
      ],
      "text/plain": [
       "     Show_Id Category           Title  \\\n",
       "2832   s2833  TV Show  House of Cards   \n",
       "\n",
       "                                               Director  \\\n",
       "2832  Robin Wright, David Fincher, Gerald McRaney, J...   \n",
       "\n",
       "                                                   Cast        Country  \\\n",
       "2832  Kevin Spacey, Robin Wright, Kate Mara, Corey S...  United States   \n",
       "\n",
       "          Release_Date Rating   Duration                     Type  \\\n",
       "2832  November 2, 2018  TV-MA  6 Seasons  TV Dramas, TV Thrillers   \n",
       "\n",
       "                                            Description  \n",
       "2832  A ruthless politician will stop at nothing to ...  "
      ]
     },
     "execution_count": 199,
     "metadata": {},
     "output_type": "execute_result"
    }
   ],
   "source": [
    "# Method 02 \n",
    "df [ df.Title.str.contains('House of Cards')]"
   ]
  },
  {
   "cell_type": "code",
   "execution_count": 200,
   "metadata": {},
   "outputs": [
    {
     "data": {
      "text/html": [
       "<div>\n",
       "<style scoped>\n",
       "    .dataframe tbody tr th:only-of-type {\n",
       "        vertical-align: middle;\n",
       "    }\n",
       "\n",
       "    .dataframe tbody tr th {\n",
       "        vertical-align: top;\n",
       "    }\n",
       "\n",
       "    .dataframe thead th {\n",
       "        text-align: right;\n",
       "    }\n",
       "</style>\n",
       "<table border=\"1\" class=\"dataframe\">\n",
       "  <thead>\n",
       "    <tr style=\"text-align: right;\">\n",
       "      <th></th>\n",
       "      <th>Show_Id</th>\n",
       "      <th>Category</th>\n",
       "      <th>Title</th>\n",
       "      <th>Director</th>\n",
       "      <th>Cast</th>\n",
       "      <th>Country</th>\n",
       "      <th>Release_Date</th>\n",
       "      <th>Rating</th>\n",
       "      <th>Duration</th>\n",
       "      <th>Type</th>\n",
       "      <th>Description</th>\n",
       "    </tr>\n",
       "  </thead>\n",
       "  <tbody>\n",
       "    <tr>\n",
       "      <th>2832</th>\n",
       "      <td>s2833</td>\n",
       "      <td>TV Show</td>\n",
       "      <td>House of Cards</td>\n",
       "      <td>Robin Wright, David Fincher, Gerald McRaney, J...</td>\n",
       "      <td>Kevin Spacey, Robin Wright, Kate Mara, Corey S...</td>\n",
       "      <td>United States</td>\n",
       "      <td>November 2, 2018</td>\n",
       "      <td>TV-MA</td>\n",
       "      <td>6 Seasons</td>\n",
       "      <td>TV Dramas, TV Thrillers</td>\n",
       "      <td>A ruthless politician will stop at nothing to ...</td>\n",
       "    </tr>\n",
       "  </tbody>\n",
       "</table>\n",
       "</div>"
      ],
      "text/plain": [
       "     Show_Id Category           Title  \\\n",
       "2832   s2833  TV Show  House of Cards   \n",
       "\n",
       "                                               Director  \\\n",
       "2832  Robin Wright, David Fincher, Gerald McRaney, J...   \n",
       "\n",
       "                                                   Cast        Country  \\\n",
       "2832  Kevin Spacey, Robin Wright, Kate Mara, Corey S...  United States   \n",
       "\n",
       "          Release_Date Rating   Duration                     Type  \\\n",
       "2832  November 2, 2018  TV-MA  6 Seasons  TV Dramas, TV Thrillers   \n",
       "\n",
       "                                            Description  \n",
       "2832  A ruthless politician will stop at nothing to ...  "
      ]
     },
     "execution_count": 200,
     "metadata": {},
     "output_type": "execute_result"
    }
   ],
   "source": [
    "# Method 03 \n",
    "df [ df.Title.isin(['House of Cards'])]"
   ]
  },
  {
   "cell_type": "markdown",
   "metadata": {},
   "source": [
    "### Q.2:\n",
    "**In which year highest number of the TV Shows & Movies were released? Show with Bar Graph.**\n"
   ]
  },
  {
   "cell_type": "code",
   "execution_count": 201,
   "metadata": {},
   "outputs": [
    {
     "data": {
      "text/plain": [
       "Show_Id                 object\n",
       "Category                object\n",
       "Title                   object\n",
       "Director                object\n",
       "Cast                    object\n",
       "Country                 object\n",
       "Release_Date            object\n",
       "Rating                  object\n",
       "Duration                object\n",
       "Type                    object\n",
       "Description             object\n",
       "Date            datetime64[ns]\n",
       "dtype: object"
      ]
     },
     "execution_count": 201,
     "metadata": {},
     "output_type": "execute_result"
    }
   ],
   "source": [
    "# df.Release_Date.max()   will result an error\n",
    "# Frist convert it to datetime \n",
    "df.loc[:, 'Release_Date'] = df['Release_Date'].str.strip()\n",
    "df.loc[:, 'Date'] = pd.to_datetime(df['Release_Date'], format=\"%B %d, %Y\", errors='coerce')\n",
    "df.dtypes\n"
   ]
  },
  {
   "cell_type": "code",
   "execution_count": 202,
   "metadata": {},
   "outputs": [
    {
     "data": {
      "text/plain": [
       "Release_Date\n",
       "January 1, 2020      119\n",
       "November 1, 2019      96\n",
       "March 1, 2018         76\n",
       "December 31, 2019     76\n",
       "October 1, 2018       72\n",
       "                    ... \n",
       "June 18, 2016          1\n",
       "March 10, 2019         1\n",
       "July 21, 2016          1\n",
       "May 13, 2017           1\n",
       "October 23, 2017       1\n",
       "Name: count, Length: 1512, dtype: int64"
      ]
     },
     "execution_count": 202,
     "metadata": {},
     "output_type": "execute_result"
    }
   ],
   "source": [
    "df.Release_Date.value_counts()"
   ]
  },
  {
   "cell_type": "code",
   "execution_count": 203,
   "metadata": {},
   "outputs": [
    {
     "data": {
      "text/plain": [
       "<Axes: ylabel='Date'>"
      ]
     },
     "execution_count": 203,
     "metadata": {},
     "output_type": "execute_result"
    },
    {
     "data": {
      "image/png": "[encoded data removed]",
      "text/plain": [
       "<Figure size 640x480 with 1 Axes>"
      ]
     },
     "metadata": {},
     "output_type": "display_data"
    }
   ],
   "source": [
    "\n",
    "df.Date.dt.year.value_counts().sort_values().plot(kind='barh')\n"
   ]
  },
  {
   "cell_type": "markdown",
   "metadata": {},
   "source": [
    "### Q3: \n",
    "**How many Movies & TV Shows are in the dataset?**  \n",
    "Show with a Bar Graph."
   ]
  },
  {
   "cell_type": "code",
   "execution_count": 204,
   "metadata": {},
   "outputs": [
    {
     "data": {
      "text/plain": [
       "<Axes: ylabel='Category'>"
      ]
     },
     "execution_count": 204,
     "metadata": {},
     "output_type": "execute_result"
    },
    {
     "data": {
      "image/png": "[encoded data removed]",
      "text/plain": [
       "<Figure size 640x480 with 1 Axes>"
      ]
     },
     "metadata": {},
     "output_type": "display_data"
    }
   ],
   "source": [
    "df.groupby(df.Category).Category.count().plot(kind='pie')"
   ]
  },
  {
   "cell_type": "markdown",
   "metadata": {},
   "source": [
    "### Q4: \n",
    "**Show all the Movies that were released in the year 2000.**"
   ]
  },
  {
   "cell_type": "code",
   "execution_count": 205,
   "metadata": {},
   "outputs": [
    {
     "data": {
      "text/html": [
       "<div>\n",
       "<style scoped>\n",
       "    .dataframe tbody tr th:only-of-type {\n",
       "        vertical-align: middle;\n",
       "    }\n",
       "\n",
       "    .dataframe tbody tr th {\n",
       "        vertical-align: top;\n",
       "    }\n",
       "\n",
       "    .dataframe thead th {\n",
       "        text-align: right;\n",
       "    }\n",
       "</style>\n",
       "<table border=\"1\" class=\"dataframe\">\n",
       "  <thead>\n",
       "    <tr style=\"text-align: right;\">\n",
       "      <th></th>\n",
       "      <th>Show_Id</th>\n",
       "      <th>Category</th>\n",
       "      <th>Title</th>\n",
       "      <th>Director</th>\n",
       "      <th>Cast</th>\n",
       "      <th>Country</th>\n",
       "      <th>Release_Date</th>\n",
       "      <th>Rating</th>\n",
       "      <th>Duration</th>\n",
       "      <th>Type</th>\n",
       "      <th>Description</th>\n",
       "      <th>Date</th>\n",
       "    </tr>\n",
       "  </thead>\n",
       "  <tbody>\n",
       "    <tr>\n",
       "      <th>4</th>\n",
       "      <td>s5</td>\n",
       "      <td>Movie</td>\n",
       "      <td>21</td>\n",
       "      <td>Robert Luketic</td>\n",
       "      <td>Jim Sturgess, Kevin Spacey, Kate Bosworth, Aar...</td>\n",
       "      <td>United States</td>\n",
       "      <td>January 1, 2020</td>\n",
       "      <td>PG-13</td>\n",
       "      <td>123 min</td>\n",
       "      <td>Dramas</td>\n",
       "      <td>A brilliant group of students become card-coun...</td>\n",
       "      <td>2020-01-01</td>\n",
       "    </tr>\n",
       "    <tr>\n",
       "      <th>6</th>\n",
       "      <td>s7</td>\n",
       "      <td>Movie</td>\n",
       "      <td>122</td>\n",
       "      <td>Yasir Al Yasiri</td>\n",
       "      <td>Amina Khalil, Ahmed Dawood, Tarek Lotfy, Ahmed...</td>\n",
       "      <td>Egypt</td>\n",
       "      <td>June 1, 2020</td>\n",
       "      <td>TV-MA</td>\n",
       "      <td>95 min</td>\n",
       "      <td>Horror Movies, International Movies</td>\n",
       "      <td>After an awful accident, a couple admitted to ...</td>\n",
       "      <td>2020-06-01</td>\n",
       "    </tr>\n",
       "    <tr>\n",
       "      <th>14</th>\n",
       "      <td>s15</td>\n",
       "      <td>Movie</td>\n",
       "      <td>3022</td>\n",
       "      <td>John Suits</td>\n",
       "      <td>Omar Epps, Kate Walsh, Miranda Cosgrove, Angus...</td>\n",
       "      <td>United States</td>\n",
       "      <td>March 19, 2020</td>\n",
       "      <td>R</td>\n",
       "      <td>91 min</td>\n",
       "      <td>Independent Movies, Sci-Fi &amp; Fantasy, Thrillers</td>\n",
       "      <td>Stranded when the Earth is suddenly destroyed ...</td>\n",
       "      <td>2020-03-19</td>\n",
       "    </tr>\n",
       "    <tr>\n",
       "      <th>27</th>\n",
       "      <td>s28</td>\n",
       "      <td>Movie</td>\n",
       "      <td>#Alive</td>\n",
       "      <td>Cho Il</td>\n",
       "      <td>Yoo Ah-in, Park Shin-hye</td>\n",
       "      <td>South Korea</td>\n",
       "      <td>September 8, 2020</td>\n",
       "      <td>TV-MA</td>\n",
       "      <td>99 min</td>\n",
       "      <td>Horror Movies, International Movies, Thrillers</td>\n",
       "      <td>As a grisly virus rampages a city, a lone man ...</td>\n",
       "      <td>2020-09-08</td>\n",
       "    </tr>\n",
       "    <tr>\n",
       "      <th>28</th>\n",
       "      <td>s29</td>\n",
       "      <td>Movie</td>\n",
       "      <td>#AnneFrank - Parallel Stories</td>\n",
       "      <td>Sabina Fedeli, Anna Migotto</td>\n",
       "      <td>Helen Mirren, Gengher Gatti</td>\n",
       "      <td>Italy</td>\n",
       "      <td>July 1, 2020</td>\n",
       "      <td>TV-14</td>\n",
       "      <td>95 min</td>\n",
       "      <td>Documentaries, International Movies</td>\n",
       "      <td>Through her diary, Anne Frank's story is retol...</td>\n",
       "      <td>2020-07-01</td>\n",
       "    </tr>\n",
       "    <tr>\n",
       "      <th>...</th>\n",
       "      <td>...</td>\n",
       "      <td>...</td>\n",
       "      <td>...</td>\n",
       "      <td>...</td>\n",
       "      <td>...</td>\n",
       "      <td>...</td>\n",
       "      <td>...</td>\n",
       "      <td>...</td>\n",
       "      <td>...</td>\n",
       "      <td>...</td>\n",
       "      <td>...</td>\n",
       "      <td>...</td>\n",
       "    </tr>\n",
       "    <tr>\n",
       "      <th>7762</th>\n",
       "      <td>s7761</td>\n",
       "      <td>Movie</td>\n",
       "      <td>Zaki Chan</td>\n",
       "      <td>Wael Ihsan</td>\n",
       "      <td>Ahmed Helmy, Yasmin Abdulaziz, Hassan Hosny, H...</td>\n",
       "      <td>Egypt</td>\n",
       "      <td>May 19, 2020</td>\n",
       "      <td>TV-PG</td>\n",
       "      <td>109 min</td>\n",
       "      <td>Comedies, International Movies, Romantic Movies</td>\n",
       "      <td>An unqualified young man has his work cut out ...</td>\n",
       "      <td>2020-05-19</td>\n",
       "    </tr>\n",
       "    <tr>\n",
       "      <th>7783</th>\n",
       "      <td>s7782</td>\n",
       "      <td>Movie</td>\n",
       "      <td>Zoom</td>\n",
       "      <td>Peter Hewitt</td>\n",
       "      <td>Tim Allen, Courteney Cox, Chevy Chase, Kate Ma...</td>\n",
       "      <td>United States</td>\n",
       "      <td>January 11, 2020</td>\n",
       "      <td>PG</td>\n",
       "      <td>88 min</td>\n",
       "      <td>Children &amp; Family Movies, Comedies</td>\n",
       "      <td>Dragged from civilian life, a former superhero...</td>\n",
       "      <td>2020-01-11</td>\n",
       "    </tr>\n",
       "    <tr>\n",
       "      <th>7784</th>\n",
       "      <td>s7783</td>\n",
       "      <td>Movie</td>\n",
       "      <td>Zozo</td>\n",
       "      <td>Josef Fares</td>\n",
       "      <td>Imad Creidi, Antoinette Turk, Elias Gergi, Car...</td>\n",
       "      <td>Sweden, Czech Republic, United Kingdom, Denmar...</td>\n",
       "      <td>October 19, 2020</td>\n",
       "      <td>TV-MA</td>\n",
       "      <td>99 min</td>\n",
       "      <td>Dramas, International Movies</td>\n",
       "      <td>When Lebanon's Civil War deprives Zozo of his ...</td>\n",
       "      <td>2020-10-19</td>\n",
       "    </tr>\n",
       "    <tr>\n",
       "      <th>7786</th>\n",
       "      <td>s7785</td>\n",
       "      <td>Movie</td>\n",
       "      <td>Zulu Man in Japan</td>\n",
       "      <td>NaN</td>\n",
       "      <td>Nasty C</td>\n",
       "      <td>NaN</td>\n",
       "      <td>September 25, 2020</td>\n",
       "      <td>TV-MA</td>\n",
       "      <td>44 min</td>\n",
       "      <td>Documentaries, International Movies, Music &amp; M...</td>\n",
       "      <td>In this documentary, South African rapper Nast...</td>\n",
       "      <td>2020-09-25</td>\n",
       "    </tr>\n",
       "    <tr>\n",
       "      <th>7788</th>\n",
       "      <td>s7787</td>\n",
       "      <td>Movie</td>\n",
       "      <td>ZZ TOP: THAT LITTLE OL' BAND FROM TEXAS</td>\n",
       "      <td>Sam Dunn</td>\n",
       "      <td>NaN</td>\n",
       "      <td>United Kingdom, Canada, United States</td>\n",
       "      <td>March 1, 2020</td>\n",
       "      <td>TV-MA</td>\n",
       "      <td>90 min</td>\n",
       "      <td>Documentaries, Music &amp; Musicals</td>\n",
       "      <td>This documentary delves into the mystique behi...</td>\n",
       "      <td>2020-03-01</td>\n",
       "    </tr>\n",
       "  </tbody>\n",
       "</table>\n",
       "<p>1312 rows × 12 columns</p>\n",
       "</div>"
      ],
      "text/plain": [
       "     Show_Id Category                                    Title  \\\n",
       "4         s5    Movie                                       21   \n",
       "6         s7    Movie                                      122   \n",
       "14       s15    Movie                                     3022   \n",
       "27       s28    Movie                                   #Alive   \n",
       "28       s29    Movie            #AnneFrank - Parallel Stories   \n",
       "...      ...      ...                                      ...   \n",
       "7762   s7761    Movie                                Zaki Chan   \n",
       "7783   s7782    Movie                                     Zoom   \n",
       "7784   s7783    Movie                                     Zozo   \n",
       "7786   s7785    Movie                        Zulu Man in Japan   \n",
       "7788   s7787    Movie  ZZ TOP: THAT LITTLE OL' BAND FROM TEXAS   \n",
       "\n",
       "                         Director  \\\n",
       "4                  Robert Luketic   \n",
       "6                 Yasir Al Yasiri   \n",
       "14                     John Suits   \n",
       "27                         Cho Il   \n",
       "28    Sabina Fedeli, Anna Migotto   \n",
       "...                           ...   \n",
       "7762                   Wael Ihsan   \n",
       "7783                 Peter Hewitt   \n",
       "7784                  Josef Fares   \n",
       "7786                          NaN   \n",
       "7788                     Sam Dunn   \n",
       "\n",
       "                                                   Cast  \\\n",
       "4     Jim Sturgess, Kevin Spacey, Kate Bosworth, Aar...   \n",
       "6     Amina Khalil, Ahmed Dawood, Tarek Lotfy, Ahmed...   \n",
       "14    Omar Epps, Kate Walsh, Miranda Cosgrove, Angus...   \n",
       "27                             Yoo Ah-in, Park Shin-hye   \n",
       "28                          Helen Mirren, Gengher Gatti   \n",
       "...                                                 ...   \n",
       "7762  Ahmed Helmy, Yasmin Abdulaziz, Hassan Hosny, H...   \n",
       "7783  Tim Allen, Courteney Cox, Chevy Chase, Kate Ma...   \n",
       "7784  Imad Creidi, Antoinette Turk, Elias Gergi, Car...   \n",
       "7786                                            Nasty C   \n",
       "7788                                                NaN   \n",
       "\n",
       "                                                Country        Release_Date  \\\n",
       "4                                         United States     January 1, 2020   \n",
       "6                                                 Egypt        June 1, 2020   \n",
       "14                                        United States      March 19, 2020   \n",
       "27                                          South Korea   September 8, 2020   \n",
       "28                                                Italy        July 1, 2020   \n",
       "...                                                 ...                 ...   \n",
       "7762                                              Egypt        May 19, 2020   \n",
       "7783                                      United States    January 11, 2020   \n",
       "7784  Sweden, Czech Republic, United Kingdom, Denmar...    October 19, 2020   \n",
       "7786                                                NaN  September 25, 2020   \n",
       "7788              United Kingdom, Canada, United States       March 1, 2020   \n",
       "\n",
       "     Rating Duration                                               Type  \\\n",
       "4     PG-13  123 min                                             Dramas   \n",
       "6     TV-MA   95 min                Horror Movies, International Movies   \n",
       "14        R   91 min    Independent Movies, Sci-Fi & Fantasy, Thrillers   \n",
       "27    TV-MA   99 min     Horror Movies, International Movies, Thrillers   \n",
       "28    TV-14   95 min                Documentaries, International Movies   \n",
       "...     ...      ...                                                ...   \n",
       "7762  TV-PG  109 min    Comedies, International Movies, Romantic Movies   \n",
       "7783     PG   88 min                 Children & Family Movies, Comedies   \n",
       "7784  TV-MA   99 min                       Dramas, International Movies   \n",
       "7786  TV-MA   44 min  Documentaries, International Movies, Music & M...   \n",
       "7788  TV-MA   90 min                    Documentaries, Music & Musicals   \n",
       "\n",
       "                                            Description       Date  \n",
       "4     A brilliant group of students become card-coun... 2020-01-01  \n",
       "6     After an awful accident, a couple admitted to ... 2020-06-01  \n",
       "14    Stranded when the Earth is suddenly destroyed ... 2020-03-19  \n",
       "27    As a grisly virus rampages a city, a lone man ... 2020-09-08  \n",
       "28    Through her diary, Anne Frank's story is retol... 2020-07-01  \n",
       "...                                                 ...        ...  \n",
       "7762  An unqualified young man has his work cut out ... 2020-05-19  \n",
       "7783  Dragged from civilian life, a former superhero... 2020-01-11  \n",
       "7784  When Lebanon's Civil War deprives Zozo of his ... 2020-10-19  \n",
       "7786  In this documentary, South African rapper Nast... 2020-09-25  \n",
       "7788  This documentary delves into the mystique behi... 2020-03-01  \n",
       "\n",
       "[1312 rows x 12 columns]"
      ]
     },
     "execution_count": 205,
     "metadata": {},
     "output_type": "execute_result"
    }
   ],
   "source": [
    "df[(df.Date.dt.year== 2020)&(df.Category == 'Movie')]"
   ]
  },
  {
   "cell_type": "markdown",
   "metadata": {},
   "source": [
    "### Q5: \n",
    "**Show only the Titles of all TV Shows that were released in India only.**\n"
   ]
  },
  {
   "cell_type": "code",
   "execution_count": 206,
   "metadata": {},
   "outputs": [
    {
     "data": {
      "text/plain": [
       "86            21 Sarfarosh: Saragarhi 1897\n",
       "132                              7 (Seven)\n",
       "340                           Agent Raghav\n",
       "364                           Akbar Birbal\n",
       "533                    Anjaan: Rural Myths\n",
       "                       ...                \n",
       "6249                  The Creative Indians\n",
       "6400    The Golden Years with Javed Akhtar\n",
       "6469                The House That Made Me\n",
       "7294                            Typewriter\n",
       "7705                       Yeh Meri Family\n",
       "Name: Title, Length: 71, dtype: object"
      ]
     },
     "execution_count": 206,
     "metadata": {},
     "output_type": "execute_result"
    }
   ],
   "source": [
    "df[(df.Category=='TV Show')&(df.Country=='India')]['Title']"
   ]
  },
  {
   "cell_type": "markdown",
   "metadata": {},
   "source": [
    "### Q6: \n",
    "**Show the Top 10 Directors who gave the highest number of TV Shows & Movies to Netflix.**"
   ]
  },
  {
   "cell_type": "code",
   "execution_count": 207,
   "metadata": {},
   "outputs": [
    {
     "data": {
      "text/plain": [
       "Director\n",
       "Raúl Campos, Jan Suter    18\n",
       "Marcus Raboy              16\n",
       "Jay Karas                 14\n",
       "Cathy Garcia-Molina       13\n",
       "Youssef Chahine           12\n",
       "Jay Chapman               12\n",
       "Martin Scorsese           12\n",
       "Steven Spielberg          10\n",
       "David Dhawan               9\n",
       "Lance Bangs                8\n",
       "Name: count, dtype: int64"
      ]
     },
     "execution_count": 207,
     "metadata": {},
     "output_type": "execute_result"
    }
   ],
   "source": [
    "df.Director.value_counts().head(10)"
   ]
  },
  {
   "cell_type": "markdown",
   "metadata": {},
   "source": [
    "### Q7: \n",
    "**Show all the Records where \"Category is Movie and Type is Comedies\" or \"Country is United Kingdom\".**"
   ]
  },
  {
   "cell_type": "code",
   "execution_count": 208,
   "metadata": {},
   "outputs": [
    {
     "data": {
      "text/html": [
       "<div>\n",
       "<style scoped>\n",
       "    .dataframe tbody tr th:only-of-type {\n",
       "        vertical-align: middle;\n",
       "    }\n",
       "\n",
       "    .dataframe tbody tr th {\n",
       "        vertical-align: top;\n",
       "    }\n",
       "\n",
       "    .dataframe thead th {\n",
       "        text-align: right;\n",
       "    }\n",
       "</style>\n",
       "<table border=\"1\" class=\"dataframe\">\n",
       "  <thead>\n",
       "    <tr style=\"text-align: right;\">\n",
       "      <th></th>\n",
       "      <th>Show_Id</th>\n",
       "      <th>Category</th>\n",
       "      <th>Title</th>\n",
       "      <th>Director</th>\n",
       "      <th>Cast</th>\n",
       "      <th>Country</th>\n",
       "      <th>Release_Date</th>\n",
       "      <th>Rating</th>\n",
       "      <th>Duration</th>\n",
       "      <th>Type</th>\n",
       "      <th>Description</th>\n",
       "      <th>Date</th>\n",
       "    </tr>\n",
       "  </thead>\n",
       "  <tbody>\n",
       "    <tr>\n",
       "      <th>19</th>\n",
       "      <td>s20</td>\n",
       "      <td>Movie</td>\n",
       "      <td>'89</td>\n",
       "      <td>NaN</td>\n",
       "      <td>Lee Dixon, Ian Wright, Paul Merson</td>\n",
       "      <td>United Kingdom</td>\n",
       "      <td>May 16, 2018</td>\n",
       "      <td>TV-PG</td>\n",
       "      <td>87 min</td>\n",
       "      <td>Sports Movies</td>\n",
       "      <td>Mixing old footage with interviews, this is th...</td>\n",
       "      <td>2018-05-16</td>\n",
       "    </tr>\n",
       "    <tr>\n",
       "      <th>33</th>\n",
       "      <td>s34</td>\n",
       "      <td>Movie</td>\n",
       "      <td>#realityhigh</td>\n",
       "      <td>Fernando Lebrija</td>\n",
       "      <td>Nesta Cooper, Kate Walsh, John Michael Higgins...</td>\n",
       "      <td>United States</td>\n",
       "      <td>September 8, 2017</td>\n",
       "      <td>TV-14</td>\n",
       "      <td>99 min</td>\n",
       "      <td>Comedies</td>\n",
       "      <td>When nerdy high schooler Dani finally attracts...</td>\n",
       "      <td>2017-09-08</td>\n",
       "    </tr>\n",
       "    <tr>\n",
       "      <th>58</th>\n",
       "      <td>s59</td>\n",
       "      <td>TV Show</td>\n",
       "      <td>100% Hotter</td>\n",
       "      <td>NaN</td>\n",
       "      <td>Daniel Palmer, Melissa Sophia, Karen Williams,...</td>\n",
       "      <td>United Kingdom</td>\n",
       "      <td>November 1, 2019</td>\n",
       "      <td>TV-14</td>\n",
       "      <td>1 Season</td>\n",
       "      <td>British TV Shows, International TV Shows, Real...</td>\n",
       "      <td>A stylist, a hair designer and a makeup artist...</td>\n",
       "      <td>2019-11-01</td>\n",
       "    </tr>\n",
       "    <tr>\n",
       "      <th>72</th>\n",
       "      <td>s73</td>\n",
       "      <td>Movie</td>\n",
       "      <td>17 Again</td>\n",
       "      <td>Burr Steers</td>\n",
       "      <td>Zac Efron, Leslie Mann, Matthew Perry, Thomas ...</td>\n",
       "      <td>United States</td>\n",
       "      <td>January 1, 2021</td>\n",
       "      <td>PG-13</td>\n",
       "      <td>102 min</td>\n",
       "      <td>Comedies</td>\n",
       "      <td>Nearing a midlife crisis, thirty-something Mik...</td>\n",
       "      <td>2021-01-01</td>\n",
       "    </tr>\n",
       "    <tr>\n",
       "      <th>82</th>\n",
       "      <td>s83</td>\n",
       "      <td>Movie</td>\n",
       "      <td>2036 Origin Unknown</td>\n",
       "      <td>Hasraf Dulull</td>\n",
       "      <td>Katee Sackhoff, Ray Fearon, Julie Cox, Steven ...</td>\n",
       "      <td>United Kingdom</td>\n",
       "      <td>December 20, 2018</td>\n",
       "      <td>TV-14</td>\n",
       "      <td>95 min</td>\n",
       "      <td>Sci-Fi &amp; Fantasy</td>\n",
       "      <td>Working with an artificial intelligence to inv...</td>\n",
       "      <td>2018-12-20</td>\n",
       "    </tr>\n",
       "    <tr>\n",
       "      <th>...</th>\n",
       "      <td>...</td>\n",
       "      <td>...</td>\n",
       "      <td>...</td>\n",
       "      <td>...</td>\n",
       "      <td>...</td>\n",
       "      <td>...</td>\n",
       "      <td>...</td>\n",
       "      <td>...</td>\n",
       "      <td>...</td>\n",
       "      <td>...</td>\n",
       "      <td>...</td>\n",
       "      <td>...</td>\n",
       "    </tr>\n",
       "    <tr>\n",
       "      <th>7670</th>\n",
       "      <td>s7669</td>\n",
       "      <td>TV Show</td>\n",
       "      <td>World War II in Colour</td>\n",
       "      <td>NaN</td>\n",
       "      <td>Robert Powell</td>\n",
       "      <td>United Kingdom</td>\n",
       "      <td>August 1, 2017</td>\n",
       "      <td>TV-MA</td>\n",
       "      <td>1 Season</td>\n",
       "      <td>British TV Shows, Docuseries, International TV...</td>\n",
       "      <td>Footage of the most dramatic moments from Worl...</td>\n",
       "      <td>2017-08-01</td>\n",
       "    </tr>\n",
       "    <tr>\n",
       "      <th>7671</th>\n",
       "      <td>s7670</td>\n",
       "      <td>TV Show</td>\n",
       "      <td>World's Busiest Cities</td>\n",
       "      <td>NaN</td>\n",
       "      <td>Anita Rani, Ade Adepitan, Dan Snow</td>\n",
       "      <td>United Kingdom</td>\n",
       "      <td>February 1, 2019</td>\n",
       "      <td>TV-PG</td>\n",
       "      <td>1 Season</td>\n",
       "      <td>British TV Shows, Docuseries</td>\n",
       "      <td>From Moscow to Mexico City, three BBC journali...</td>\n",
       "      <td>2019-02-01</td>\n",
       "    </tr>\n",
       "    <tr>\n",
       "      <th>7688</th>\n",
       "      <td>s7687</td>\n",
       "      <td>Movie</td>\n",
       "      <td>XV: Beyond the Tryline</td>\n",
       "      <td>Pierre Deschamps</td>\n",
       "      <td>NaN</td>\n",
       "      <td>United Kingdom</td>\n",
       "      <td>March 18, 2020</td>\n",
       "      <td>TV-14</td>\n",
       "      <td>91 min</td>\n",
       "      <td>Documentaries, Sports Movies</td>\n",
       "      <td>Set against the 2015 Rugby World Cup, this doc...</td>\n",
       "      <td>2020-03-18</td>\n",
       "    </tr>\n",
       "    <tr>\n",
       "      <th>7725</th>\n",
       "      <td>s7724</td>\n",
       "      <td>Movie</td>\n",
       "      <td>You Can Tutu</td>\n",
       "      <td>James Brown</td>\n",
       "      <td>Lily O'Regan, Jeannettsy Enriquez Borges, Joel...</td>\n",
       "      <td>United Kingdom</td>\n",
       "      <td>December 31, 2017</td>\n",
       "      <td>TV-G</td>\n",
       "      <td>87 min</td>\n",
       "      <td>Children &amp; Family Movies</td>\n",
       "      <td>A gifted young ballet dancer struggles to find...</td>\n",
       "      <td>2017-12-31</td>\n",
       "    </tr>\n",
       "    <tr>\n",
       "      <th>7740</th>\n",
       "      <td>s7739</td>\n",
       "      <td>TV Show</td>\n",
       "      <td>Young Wallander</td>\n",
       "      <td>NaN</td>\n",
       "      <td>Adam Pålsson, Richard Dillane, Leanne Best, El...</td>\n",
       "      <td>United Kingdom</td>\n",
       "      <td>September 3, 2020</td>\n",
       "      <td>TV-MA</td>\n",
       "      <td>1 Season</td>\n",
       "      <td>Crime TV Shows, International TV Shows, TV Dramas</td>\n",
       "      <td>An incendiary hate crime stirs civil unrest, f...</td>\n",
       "      <td>2020-09-03</td>\n",
       "    </tr>\n",
       "  </tbody>\n",
       "</table>\n",
       "<p>485 rows × 12 columns</p>\n",
       "</div>"
      ],
      "text/plain": [
       "     Show_Id Category                   Title          Director  \\\n",
       "19       s20    Movie                     '89               NaN   \n",
       "33       s34    Movie            #realityhigh  Fernando Lebrija   \n",
       "58       s59  TV Show             100% Hotter               NaN   \n",
       "72       s73    Movie                17 Again       Burr Steers   \n",
       "82       s83    Movie     2036 Origin Unknown     Hasraf Dulull   \n",
       "...      ...      ...                     ...               ...   \n",
       "7670   s7669  TV Show  World War II in Colour               NaN   \n",
       "7671   s7670  TV Show  World's Busiest Cities               NaN   \n",
       "7688   s7687    Movie  XV: Beyond the Tryline  Pierre Deschamps   \n",
       "7725   s7724    Movie            You Can Tutu       James Brown   \n",
       "7740   s7739  TV Show         Young Wallander               NaN   \n",
       "\n",
       "                                                   Cast         Country  \\\n",
       "19                   Lee Dixon, Ian Wright, Paul Merson  United Kingdom   \n",
       "33    Nesta Cooper, Kate Walsh, John Michael Higgins...   United States   \n",
       "58    Daniel Palmer, Melissa Sophia, Karen Williams,...  United Kingdom   \n",
       "72    Zac Efron, Leslie Mann, Matthew Perry, Thomas ...   United States   \n",
       "82    Katee Sackhoff, Ray Fearon, Julie Cox, Steven ...  United Kingdom   \n",
       "...                                                 ...             ...   \n",
       "7670                                      Robert Powell  United Kingdom   \n",
       "7671                 Anita Rani, Ade Adepitan, Dan Snow  United Kingdom   \n",
       "7688                                                NaN  United Kingdom   \n",
       "7725  Lily O'Regan, Jeannettsy Enriquez Borges, Joel...  United Kingdom   \n",
       "7740  Adam Pålsson, Richard Dillane, Leanne Best, El...  United Kingdom   \n",
       "\n",
       "           Release_Date Rating  Duration  \\\n",
       "19         May 16, 2018  TV-PG    87 min   \n",
       "33    September 8, 2017  TV-14    99 min   \n",
       "58     November 1, 2019  TV-14  1 Season   \n",
       "72      January 1, 2021  PG-13   102 min   \n",
       "82    December 20, 2018  TV-14    95 min   \n",
       "...                 ...    ...       ...   \n",
       "7670     August 1, 2017  TV-MA  1 Season   \n",
       "7671   February 1, 2019  TV-PG  1 Season   \n",
       "7688     March 18, 2020  TV-14    91 min   \n",
       "7725  December 31, 2017   TV-G    87 min   \n",
       "7740  September 3, 2020  TV-MA  1 Season   \n",
       "\n",
       "                                                   Type  \\\n",
       "19                                        Sports Movies   \n",
       "33                                             Comedies   \n",
       "58    British TV Shows, International TV Shows, Real...   \n",
       "72                                             Comedies   \n",
       "82                                     Sci-Fi & Fantasy   \n",
       "...                                                 ...   \n",
       "7670  British TV Shows, Docuseries, International TV...   \n",
       "7671                       British TV Shows, Docuseries   \n",
       "7688                       Documentaries, Sports Movies   \n",
       "7725                           Children & Family Movies   \n",
       "7740  Crime TV Shows, International TV Shows, TV Dramas   \n",
       "\n",
       "                                            Description       Date  \n",
       "19    Mixing old footage with interviews, this is th... 2018-05-16  \n",
       "33    When nerdy high schooler Dani finally attracts... 2017-09-08  \n",
       "58    A stylist, a hair designer and a makeup artist... 2019-11-01  \n",
       "72    Nearing a midlife crisis, thirty-something Mik... 2021-01-01  \n",
       "82    Working with an artificial intelligence to inv... 2018-12-20  \n",
       "...                                                 ...        ...  \n",
       "7670  Footage of the most dramatic moments from Worl... 2017-08-01  \n",
       "7671  From Moscow to Mexico City, three BBC journali... 2019-02-01  \n",
       "7688  Set against the 2015 Rugby World Cup, this doc... 2020-03-18  \n",
       "7725  A gifted young ballet dancer struggles to find... 2017-12-31  \n",
       "7740  An incendiary hate crime stirs civil unrest, f... 2020-09-03  \n",
       "\n",
       "[485 rows x 12 columns]"
      ]
     },
     "execution_count": 208,
     "metadata": {},
     "output_type": "execute_result"
    }
   ],
   "source": [
    "df.columns\n",
    "df[((df.Category == 'Movie') & (df.Type =='Comedies' ) | (df.Country == 'United Kingdom'))]"
   ]
  },
  {
   "cell_type": "code",
   "execution_count": null,
   "metadata": {},
   "outputs": [],
   "source": []
  },
  {
   "cell_type": "code",
   "execution_count": 209,
   "metadata": {},
   "outputs": [
    {
     "data": {
      "text/plain": [
       "Index(['Show_Id', 'Category', 'Title', 'Director', 'Cast', 'Country',\n",
       "       'Release_Date', 'Rating', 'Duration', 'Type', 'Description', 'Date'],\n",
       "      dtype='object')"
      ]
     },
     "execution_count": 209,
     "metadata": {},
     "output_type": "execute_result"
    }
   ],
   "source": [
    "df.columns"
   ]
  },
  {
   "cell_type": "markdown",
   "metadata": {},
   "source": [
    "### Q8: \n",
    "**In how many movies/shows was Tom Cruise cast?**\n"
   ]
  },
  {
   "cell_type": "code",
   "execution_count": 210,
   "metadata": {},
   "outputs": [
    {
     "data": {
      "text/html": [
       "<div>\n",
       "<style scoped>\n",
       "    .dataframe tbody tr th:only-of-type {\n",
       "        vertical-align: middle;\n",
       "    }\n",
       "\n",
       "    .dataframe tbody tr th {\n",
       "        vertical-align: top;\n",
       "    }\n",
       "\n",
       "    .dataframe thead th {\n",
       "        text-align: right;\n",
       "    }\n",
       "</style>\n",
       "<table border=\"1\" class=\"dataframe\">\n",
       "  <thead>\n",
       "    <tr style=\"text-align: right;\">\n",
       "      <th></th>\n",
       "      <th>Show_Id</th>\n",
       "      <th>Category</th>\n",
       "      <th>Title</th>\n",
       "      <th>Director</th>\n",
       "      <th>Cast</th>\n",
       "      <th>Country</th>\n",
       "      <th>Release_Date</th>\n",
       "      <th>Rating</th>\n",
       "      <th>Duration</th>\n",
       "      <th>Type</th>\n",
       "      <th>Description</th>\n",
       "      <th>Date</th>\n",
       "    </tr>\n",
       "  </thead>\n",
       "  <tbody>\n",
       "  </tbody>\n",
       "</table>\n",
       "</div>"
      ],
      "text/plain": [
       "Empty DataFrame\n",
       "Columns: [Show_Id, Category, Title, Director, Cast, Country, Release_Date, Rating, Duration, Type, Description, Date]\n",
       "Index: []"
      ]
     },
     "execution_count": 210,
     "metadata": {},
     "output_type": "execute_result"
    }
   ],
   "source": [
    "df[df.Cast == 'Tom Cruise'] # means he is not only the cast. "
   ]
  },
  {
   "cell_type": "code",
   "execution_count": 213,
   "metadata": {},
   "outputs": [
    {
     "data": {
      "text/html": [
       "<div>\n",
       "<style scoped>\n",
       "    .dataframe tbody tr th:only-of-type {\n",
       "        vertical-align: middle;\n",
       "    }\n",
       "\n",
       "    .dataframe tbody tr th {\n",
       "        vertical-align: top;\n",
       "    }\n",
       "\n",
       "    .dataframe thead th {\n",
       "        text-align: right;\n",
       "    }\n",
       "</style>\n",
       "<table border=\"1\" class=\"dataframe\">\n",
       "  <thead>\n",
       "    <tr style=\"text-align: right;\">\n",
       "      <th></th>\n",
       "      <th>Show_Id</th>\n",
       "      <th>Category</th>\n",
       "      <th>Title</th>\n",
       "      <th>Director</th>\n",
       "      <th>Cast</th>\n",
       "      <th>Country</th>\n",
       "      <th>Release_Date</th>\n",
       "      <th>Rating</th>\n",
       "      <th>Duration</th>\n",
       "      <th>Type</th>\n",
       "      <th>Description</th>\n",
       "      <th>Date</th>\n",
       "    </tr>\n",
       "  </thead>\n",
       "  <tbody>\n",
       "    <tr>\n",
       "      <th>3860</th>\n",
       "      <td>s3861</td>\n",
       "      <td>Movie</td>\n",
       "      <td>Magnolia</td>\n",
       "      <td>Paul Thomas Anderson</td>\n",
       "      <td>Jeremy Blackman, Tom Cruise, Melinda Dillon, A...</td>\n",
       "      <td>United States</td>\n",
       "      <td>January 1, 2020</td>\n",
       "      <td>R</td>\n",
       "      <td>189 min</td>\n",
       "      <td>Dramas, Independent Movies</td>\n",
       "      <td>Through chance, human action, past history and...</td>\n",
       "      <td>2020-01-01</td>\n",
       "    </tr>\n",
       "    <tr>\n",
       "      <th>5071</th>\n",
       "      <td>s5071</td>\n",
       "      <td>Movie</td>\n",
       "      <td>Rain Man</td>\n",
       "      <td>Barry Levinson</td>\n",
       "      <td>Dustin Hoffman, Tom Cruise, Valeria Golino, Ge...</td>\n",
       "      <td>United States</td>\n",
       "      <td>July 1, 2019</td>\n",
       "      <td>R</td>\n",
       "      <td>134 min</td>\n",
       "      <td>Classic Movies, Dramas</td>\n",
       "      <td>A fast-talking yuppie is forced to slow down w...</td>\n",
       "      <td>2019-07-01</td>\n",
       "    </tr>\n",
       "  </tbody>\n",
       "</table>\n",
       "</div>"
      ],
      "text/plain": [
       "     Show_Id Category     Title              Director  \\\n",
       "3860   s3861    Movie  Magnolia  Paul Thomas Anderson   \n",
       "5071   s5071    Movie  Rain Man        Barry Levinson   \n",
       "\n",
       "                                                   Cast        Country  \\\n",
       "3860  Jeremy Blackman, Tom Cruise, Melinda Dillon, A...  United States   \n",
       "5071  Dustin Hoffman, Tom Cruise, Valeria Golino, Ge...  United States   \n",
       "\n",
       "         Release_Date Rating Duration                        Type  \\\n",
       "3860  January 1, 2020      R  189 min  Dramas, Independent Movies   \n",
       "5071     July 1, 2019      R  134 min      Classic Movies, Dramas   \n",
       "\n",
       "                                            Description       Date  \n",
       "3860  Through chance, human action, past history and... 2020-01-01  \n",
       "5071  A fast-talking yuppie is forced to slow down w... 2019-07-01  "
      ]
     },
     "execution_count": 213,
     "metadata": {},
     "output_type": "execute_result"
    }
   ],
   "source": [
    "df[df.Cast.str.contains('Tom Cruise')] "
   ]
  },
  {
   "cell_type": "code",
   "execution_count": 212,
   "metadata": {},
   "outputs": [],
   "source": [
    "df.Cast= df.Cast.fillna('Unknown')"
   ]
  },
  {
   "cell_type": "markdown",
   "metadata": {},
   "source": [
    "### Q9: \n",
    "**What are the different Ratings defined by Netflix?**"
   ]
  },
  {
   "cell_type": "code",
   "execution_count": null,
   "metadata": {},
   "outputs": [
    {
     "data": {
      "text/plain": [
       "14"
      ]
     },
     "execution_count": 171,
     "metadata": {},
     "output_type": "execute_result"
    }
   ],
   "source": [
    "df.Rating.nuniqu()"
   ]
  },
  {
   "cell_type": "code",
   "execution_count": 214,
   "metadata": {},
   "outputs": [
    {
     "data": {
      "text/plain": [
       "array(['TV-MA', 'R', 'PG-13', 'TV-14', 'TV-PG', 'NR', 'TV-G', 'TV-Y', nan,\n",
       "       'TV-Y7', 'PG', 'G', 'NC-17', 'TV-Y7-FV', 'UR'], dtype=object)"
      ]
     },
     "execution_count": 214,
     "metadata": {},
     "output_type": "execute_result"
    }
   ],
   "source": [
    "df.Rating.unique()"
   ]
  },
  {
   "cell_type": "code",
   "execution_count": 232,
   "metadata": {},
   "outputs": [
    {
     "data": {
      "text/plain": [
       "array(['0', '3', '6', 'Unknown Category', '2.0', '2.5'], dtype='<U32')"
      ]
     },
     "execution_count": 232,
     "metadata": {},
     "output_type": "execute_result"
    }
   ],
   "source": [
    "import numpy as np\n",
    "conditions = [\n",
    "    df['Rating'].isin(['TV-MA', 'R', 'NC-17']),\n",
    "    df['Rating'].isin(['TV-14', 'PG-13']),\n",
    "    df['Rating'].isin(['TV-PG', 'PG']),\n",
    "    df['Rating'].isin(['TV-G', 'G']),\n",
    "    df['Rating'].isin(['TV-Y', 'TV-Y7', 'TV-Y7-FV']),\n",
    "    df['Rating'].isna() | df['Rating'].isin(['NR', 'UR'])\n",
    "]\n",
    "\n",
    "choices = [\n",
    "    'Most Mature',\n",
    "    'Moderately Mature',\n",
    "    'Mild Content',\n",
    "    'Suitable for All Ages',\n",
    "    'For Young Children',\n",
    "    'Undefined or Not Rated'\n",
    "]\n",
    "\n",
    "# Apply the conditions to create the 'Category' column\n",
    "df['Rat_Category'] = np.select(conditions, choices, default='Unknown Category')\n",
    "\n",
    "df['Rat_Category'].value_counts()/df['Rat_Category'].value_counts().sum()*100\n",
    "\n"
   ]
  },
  {
   "cell_type": "code",
   "execution_count": 235,
   "metadata": {},
   "outputs": [
    {
     "data": {
      "text/plain": [
       "Index(['Show_Id', 'Category', 'Title', 'Director', 'Cast', 'Country',\n",
       "       'Release_Date', 'Rating', 'Duration', 'Type', 'Description', 'Date',\n",
       "       'Rat_Category'],\n",
       "      dtype='object')"
      ]
     },
     "execution_count": 235,
     "metadata": {},
     "output_type": "execute_result"
    }
   ],
   "source": [
    "df.columns"
   ]
  },
  {
   "cell_type": "code",
   "execution_count": 246,
   "metadata": {},
   "outputs": [
    {
     "name": "stdout",
     "output_type": "stream",
     "text": [
      "0    [4, Seasons]\n",
      "1       [93, min]\n",
      "2       [78, min]\n",
      "3       [80, min]\n",
      "4      [123, min]\n",
      "Name: Duration, dtype: object\n"
     ]
    }
   ],
   "source": [
    "split_df = df['Duration'].str.split(' ')\n",
    "print(split_df.head())"
   ]
  },
  {
   "cell_type": "code",
   "execution_count": 253,
   "metadata": {},
   "outputs": [
    {
     "data": {
      "text/plain": [
       "Index([         'Show_Id',         'Category',            'Title',\n",
       "               'Director',             'Cast',          'Country',\n",
       "           'Release_Date',           'Rating',         'Duration',\n",
       "                   'Type',      'Description',             'Date',\n",
       "           'Rat_Category', ('Length', 'Unit'),           'Length',\n",
       "                   'Unit'],\n",
       "      dtype='object')"
      ]
     },
     "execution_count": 253,
     "metadata": {},
     "output_type": "execute_result"
    }
   ],
   "source": [
    "df.columns"
   ]
  },
  {
   "cell_type": "code",
   "execution_count": 263,
   "metadata": {},
   "outputs": [
    {
     "data": {
      "text/plain": [
       "Show_Id                 object\n",
       "Category                object\n",
       "Title                   object\n",
       "Director                object\n",
       "Cast                    object\n",
       "Country                 object\n",
       "Release_Date            object\n",
       "Rating                  object\n",
       "Duration                object\n",
       "Type                    object\n",
       "Description             object\n",
       "Date            datetime64[ns]\n",
       "Rat_Category            object\n",
       "Length                   int64\n",
       "Unit                    object\n",
       "dtype: object"
      ]
     },
     "execution_count": 263,
     "metadata": {},
     "output_type": "execute_result"
    }
   ],
   "source": [
    "df[['Length', 'Unit']]=df.Duration.str.split(' ',expand=True)\n",
    "df.Length=df.Length.astype(int)\n",
    "df.dtypes"
   ]
  },
  {
   "cell_type": "code",
   "execution_count": 271,
   "metadata": {},
   "outputs": [
    {
     "data": {
      "text/plain": [
       "np.float64(5.2)"
      ]
     },
     "execution_count": 271,
     "metadata": {},
     "output_type": "execute_result"
    }
   ],
   "source": [
    "max_duration_M = df[df.Category =='Movie']['Length'].max()\n",
    "max_duration_M/60\n"
   ]
  },
  {
   "cell_type": "code",
   "execution_count": 272,
   "metadata": {},
   "outputs": [
    {
     "data": {
      "text/plain": [
       "np.int64(16)"
      ]
     },
     "execution_count": 272,
     "metadata": {},
     "output_type": "execute_result"
    }
   ],
   "source": [
    "max_duration_TV = df[df.Category =='TV Show']['Length'].max()\n",
    "max_duration_TV"
   ]
  },
  {
   "cell_type": "code",
   "execution_count": null,
   "metadata": {},
   "outputs": [],
   "source": [
    "#### Q9.1: \n",
    "**How many Movies got the \"TV-14\" rating, in Canada?**\n",
    "\n",
    "#### Q9.2: \n",
    "**How many TV Shows got the 'R' rating, after the year 2018?**\n",
    "\n",
    "### Q10: \n",
    "**What is the maximum duration of a Movie/Show on Netflix?**\n",
    "\n",
    "### Q11: \n",
    "**Which individual country has the Highest No. of TV Shows?**\n",
    "\n",
    "### Q12: \n",
    "**How can we sort the dataset by Year?**\n",
    "\n",
    "### Q13: \n",
    "**Find all the instances where:**\n",
    "- Category is 'Movie' and Type is 'Dramas'\n",
    "- Or Category is 'TV Show' & Type is 'Kids' TV'"
   ]
  },
  {
   "cell_type": "code",
   "execution_count": null,
   "metadata": {},
   "outputs": [],
   "source": []
  },
  {
   "cell_type": "code",
   "execution_count": null,
   "metadata": {},
   "outputs": [],
   "source": []
  },
  {
   "cell_type": "markdown",
   "metadata": {},
   "source": []
  }
 ],
 "metadata": {
  "kernelspec": {
   "display_name": "Python 3",
   "language": "python",
   "name": "python3"
  },
  "language_info": {
   "codemirror_mode": {
    "name": "ipython",
    "version": 3
   },
   "file_extension": ".py",
   "mimetype": "text/x-python",
   "name": "python",
   "nbconvert_exporter": "python",
   "pygments_lexer": "ipython3",
   "version": "3.12.4"
  }
 },
 "nbformat": 4,
 "nbformat_minor": 2
}
